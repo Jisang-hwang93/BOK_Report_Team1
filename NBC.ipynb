{
 "cells": [
  {
   "cell_type": "code",
   "execution_count": 1,
   "metadata": {},
   "outputs": [],
   "source": [
    "import numpy as np\n",
    "import pandas as pd\n",
    "import csv\n",
    "\n",
    "labeled_corpus = pd.read_csv('C:\\multicampus/labeled_corpus.csv', encoding = 'utf-8', index_col = [0])\n",
    "labeled_corpus = labeled_corpus[labeled_corpus['token_ngram'].notna()]"
   ]
  },
  {
   "cell_type": "code",
   "execution_count": 2,
   "metadata": {},
   "outputs": [
    {
     "output_type": "execute_result",
     "data": {
      "text/plain": "                                              token_ngram  label\n0       들/VV,국제/NNG,유가/NNG,크/VA,오르/VV,원화/NNG,엔/NNG,화간/...     -1\n1       위안/NNG,절상/NNG,원화/NNG,절상/NNG,가장/MAG,크/VA,추가/NNG...      1\n2       금융/NNG,불안사태/NNG,발생/NNG,하/VV,가운데/NNG,국제/NNG,환투기...      0\n3       금리갭/NNG,확대/NNG,되/XSV,가운데/NNG,남/VV,fed/NNG,금리/N...      1\n4       미/NNG,달러/NNG,엔/NNG,약세/NNG,지속/NNG,되/VV,보/VV,물/V...      0\n...                                                   ...    ...\n256264  경기/NNG,전망/NNG,비교적/VAX,분명/MAG,인플레이션/NNG,명분/NNG,...     -1\n256265  믹스/NNG,합의/NNG,반영/NNG,예상/NNG,경제/NNG,성장률/NNG,하향/...      0\n256266  돌아온/VV,박스권/NNG,하단/NNG,상단/NNG,테스트/NNG,가능성/NNG,무...      0\n256267  돌아온/VV,박스권/NNG,하단/NNG,상단/NNG,테스트/NNG,가능성/NNG,무...      1\n256268  가/VV,채권투자/NNG,채권시장/NNG,전망/NNG,금융시장/NNG,차/NNG,트...      1\n\n[256258 rows x 2 columns]",
      "text/html": "<div>\n<style scoped>\n    .dataframe tbody tr th:only-of-type {\n        vertical-align: middle;\n    }\n\n    .dataframe tbody tr th {\n        vertical-align: top;\n    }\n\n    .dataframe thead th {\n        text-align: right;\n    }\n</style>\n<table border=\"1\" class=\"dataframe\">\n  <thead>\n    <tr style=\"text-align: right;\">\n      <th></th>\n      <th>token_ngram</th>\n      <th>label</th>\n    </tr>\n  </thead>\n  <tbody>\n    <tr>\n      <th>0</th>\n      <td>들/VV,국제/NNG,유가/NNG,크/VA,오르/VV,원화/NNG,엔/NNG,화간/...</td>\n      <td>-1</td>\n    </tr>\n    <tr>\n      <th>1</th>\n      <td>위안/NNG,절상/NNG,원화/NNG,절상/NNG,가장/MAG,크/VA,추가/NNG...</td>\n      <td>1</td>\n    </tr>\n    <tr>\n      <th>2</th>\n      <td>금융/NNG,불안사태/NNG,발생/NNG,하/VV,가운데/NNG,국제/NNG,환투기...</td>\n      <td>0</td>\n    </tr>\n    <tr>\n      <th>3</th>\n      <td>금리갭/NNG,확대/NNG,되/XSV,가운데/NNG,남/VV,fed/NNG,금리/N...</td>\n      <td>1</td>\n    </tr>\n    <tr>\n      <th>4</th>\n      <td>미/NNG,달러/NNG,엔/NNG,약세/NNG,지속/NNG,되/VV,보/VV,물/V...</td>\n      <td>0</td>\n    </tr>\n    <tr>\n      <th>...</th>\n      <td>...</td>\n      <td>...</td>\n    </tr>\n    <tr>\n      <th>256264</th>\n      <td>경기/NNG,전망/NNG,비교적/VAX,분명/MAG,인플레이션/NNG,명분/NNG,...</td>\n      <td>-1</td>\n    </tr>\n    <tr>\n      <th>256265</th>\n      <td>믹스/NNG,합의/NNG,반영/NNG,예상/NNG,경제/NNG,성장률/NNG,하향/...</td>\n      <td>0</td>\n    </tr>\n    <tr>\n      <th>256266</th>\n      <td>돌아온/VV,박스권/NNG,하단/NNG,상단/NNG,테스트/NNG,가능성/NNG,무...</td>\n      <td>0</td>\n    </tr>\n    <tr>\n      <th>256267</th>\n      <td>돌아온/VV,박스권/NNG,하단/NNG,상단/NNG,테스트/NNG,가능성/NNG,무...</td>\n      <td>1</td>\n    </tr>\n    <tr>\n      <th>256268</th>\n      <td>가/VV,채권투자/NNG,채권시장/NNG,전망/NNG,금융시장/NNG,차/NNG,트...</td>\n      <td>1</td>\n    </tr>\n  </tbody>\n</table>\n<p>256258 rows × 2 columns</p>\n</div>"
     },
     "metadata": {},
     "execution_count": 2
    }
   ],
   "source": [
    "labeled_corpus"
   ]
  },
  {
   "cell_type": "code",
   "execution_count": 3,
   "metadata": {},
   "outputs": [
    {
     "output_type": "execute_result",
     "data": {
      "text/plain": "                                              token_ngram  label\n0       들/VV,국제/NNG,유가/NNG,크/VA,오르/VV,원화/NNG,엔/NNG,화간/...     -1\n1       위안/NNG,절상/NNG,원화/NNG,절상/NNG,가장/MAG,크/VA,추가/NNG...      1\n3       금리갭/NNG,확대/NNG,되/XSV,가운데/NNG,남/VV,fed/NNG,금리/N...      1\n5       들/VV,달러/NNG,엔/NNG,유로/NNG,대해/VV,상당히/MAG,강세/NNG,...      1\n7       자본/NNG,유입/NNG,대해서/VV,관대/NNG,반면/NNG,자본/NNG,유출/N...      1\n...                                                   ...    ...\n256262  가/VV,채권투자/NNG,채권시장/NNG,전망/NNG,금융시장/NNG,차/NNG,트...     -1\n256263  fed/NNG,원자재/NNG,가격/NNG,상승/NNG,둔화/NNG,여부/NNG,관심...     -1\n256264  경기/NNG,전망/NNG,비교적/VAX,분명/MAG,인플레이션/NNG,명분/NNG,...     -1\n256267  돌아온/VV,박스권/NNG,하단/NNG,상단/NNG,테스트/NNG,가능성/NNG,무...      1\n256268  가/VV,채권투자/NNG,채권시장/NNG,전망/NNG,금융시장/NNG,차/NNG,트...      1\n\n[99737 rows x 2 columns]",
      "text/html": "<div>\n<style scoped>\n    .dataframe tbody tr th:only-of-type {\n        vertical-align: middle;\n    }\n\n    .dataframe tbody tr th {\n        vertical-align: top;\n    }\n\n    .dataframe thead th {\n        text-align: right;\n    }\n</style>\n<table border=\"1\" class=\"dataframe\">\n  <thead>\n    <tr style=\"text-align: right;\">\n      <th></th>\n      <th>token_ngram</th>\n      <th>label</th>\n    </tr>\n  </thead>\n  <tbody>\n    <tr>\n      <th>0</th>\n      <td>들/VV,국제/NNG,유가/NNG,크/VA,오르/VV,원화/NNG,엔/NNG,화간/...</td>\n      <td>-1</td>\n    </tr>\n    <tr>\n      <th>1</th>\n      <td>위안/NNG,절상/NNG,원화/NNG,절상/NNG,가장/MAG,크/VA,추가/NNG...</td>\n      <td>1</td>\n    </tr>\n    <tr>\n      <th>3</th>\n      <td>금리갭/NNG,확대/NNG,되/XSV,가운데/NNG,남/VV,fed/NNG,금리/N...</td>\n      <td>1</td>\n    </tr>\n    <tr>\n      <th>5</th>\n      <td>들/VV,달러/NNG,엔/NNG,유로/NNG,대해/VV,상당히/MAG,강세/NNG,...</td>\n      <td>1</td>\n    </tr>\n    <tr>\n      <th>7</th>\n      <td>자본/NNG,유입/NNG,대해서/VV,관대/NNG,반면/NNG,자본/NNG,유출/N...</td>\n      <td>1</td>\n    </tr>\n    <tr>\n      <th>...</th>\n      <td>...</td>\n      <td>...</td>\n    </tr>\n    <tr>\n      <th>256262</th>\n      <td>가/VV,채권투자/NNG,채권시장/NNG,전망/NNG,금융시장/NNG,차/NNG,트...</td>\n      <td>-1</td>\n    </tr>\n    <tr>\n      <th>256263</th>\n      <td>fed/NNG,원자재/NNG,가격/NNG,상승/NNG,둔화/NNG,여부/NNG,관심...</td>\n      <td>-1</td>\n    </tr>\n    <tr>\n      <th>256264</th>\n      <td>경기/NNG,전망/NNG,비교적/VAX,분명/MAG,인플레이션/NNG,명분/NNG,...</td>\n      <td>-1</td>\n    </tr>\n    <tr>\n      <th>256267</th>\n      <td>돌아온/VV,박스권/NNG,하단/NNG,상단/NNG,테스트/NNG,가능성/NNG,무...</td>\n      <td>1</td>\n    </tr>\n    <tr>\n      <th>256268</th>\n      <td>가/VV,채권투자/NNG,채권시장/NNG,전망/NNG,금융시장/NNG,차/NNG,트...</td>\n      <td>1</td>\n    </tr>\n  </tbody>\n</table>\n<p>99737 rows × 2 columns</p>\n</div>"
     },
     "metadata": {},
     "execution_count": 3
    }
   ],
   "source": [
    "labeled_corpus = labeled_corpus[labeled_corpus['label']!= 0]\n",
    "labeled_corpus"
   ]
  },
  {
   "cell_type": "code",
   "execution_count": 4,
   "metadata": {},
   "outputs": [],
   "source": [
    "# labeled_corpus.to_csv('final_corpus_without_0.csv', encoding = 'utf-8')\n"
   ]
  },
  {
   "cell_type": "code",
   "execution_count": 4,
   "metadata": {},
   "outputs": [],
   "source": [
    "from sklearn.model_selection import train_test_split\n",
    "from sklearn.pipeline import Pipeline\n",
    "from sklearn.feature_extraction.text import CountVectorizer\n",
    "from sklearn.naive_bayes import MultinomialNB\n",
    "from tqdm import tqdm"
   ]
  },
  {
   "cell_type": "code",
   "execution_count": 5,
   "metadata": {},
   "outputs": [],
   "source": [
    "def my_tokenizer(x):\n",
    "    return x.split(\",\")"
   ]
  },
  {
   "cell_type": "code",
   "execution_count": 6,
   "metadata": {},
   "outputs": [],
   "source": [
    "text_clf = Pipeline([('vect', CountVectorizer(ngram_range=(1,1), min_df = 15, tokenizer = my_tokenizer)),\n",
    "                      ('clf', MultinomialNB(alpha=0.001)), ])\n",
    "vect = text_clf.named_steps['vect']\n",
    "clf = text_clf.named_steps['clf']"
   ]
  },
  {
   "cell_type": "code",
   "execution_count": 36,
   "metadata": {
    "tags": []
   },
   "outputs": [
    {
     "output_type": "stream",
     "name": "stderr",
     "text": "100%|██████████| 30/30 [35:52<00:00, 71.76s/it]\n"
    }
   ],
   "source": [
    "#Bagging\n",
    "\n",
    "# avg_polarity_score = np.zeros((1, 18787))\n",
    "# accuracy = np.zeros(30)\n",
    "posterior_list = []\n",
    "for i in tqdm(range(30)):\n",
    "    X_train, X_test, y_train, y_test = train_test_split(labeled_corpus['token_ngram'], labeled_corpus['label'], random_state = i, train_size = 0.9, shuffle=True)\n",
    "    text_clf.fit(X_train, y_train)\n",
    "    posterior_list.append(np.vstack([np.array(vect.get_feature_names()), clf.feature_log_prob_]))\n",
    "    # posterior = np.concatenate(vect.get_feature_names(), clf.feature_log_prob_, axis=0)\n",
    "    # posterior_list.append(posterior)\n",
    "    # polarity_score = posterior[1]/posterior[0]\n",
    "    # avg_polarity_score += polarity_score\n",
    "    # pred = text_clf.predict(X_test)\n",
    "    # accuracy[i] = np.sum(pred == y_test)\n",
    "\n",
    "# avg_polarity_score = avg_polarity_score/30\n",
    "# print(avg_polarity_score)"
   ]
  },
  {
   "cell_type": "code",
   "execution_count": 38,
   "metadata": {},
   "outputs": [],
   "source": [
    "pd.DataFrame(posterior_list).to_csv('C:\\multicampus/posterior_list.csv')"
   ]
  },
  {
   "cell_type": "code",
   "execution_count": 39,
   "metadata": {},
   "outputs": [],
   "source": [
    "cv = CountVectorizer(ngram_range=(1,1), min_df = 15, tokenizer = my_tokenizer)"
   ]
  },
  {
   "cell_type": "code",
   "execution_count": null,
   "metadata": {},
   "outputs": [],
   "source": []
  },
  {
   "cell_type": "code",
   "execution_count": 41,
   "metadata": {},
   "outputs": [],
   "source": [
    "X = cv.fit_transform(labeled_corpus['token_ngram'])"
   ]
  },
  {
   "cell_type": "code",
   "execution_count": 42,
   "metadata": {},
   "outputs": [
    {
     "output_type": "execute_result",
     "data": {
      "text/plain": "19749"
     },
     "metadata": {},
     "execution_count": 42
    }
   ],
   "source": [
    "ngram_list = cv.get_feature_names()\n",
    "len(ngram_list)"
   ]
  },
  {
   "cell_type": "code",
   "execution_count": 65,
   "metadata": {
    "tags": []
   },
   "outputs": [
    {
     "output_type": "stream",
     "name": "stderr",
     "text": "30it [24:10, 48.36s/it]\n"
    }
   ],
   "source": [
    "polarity_scores = np.zeros((30, len(ngram_list)))\n",
    "\n",
    "for i, itr in tqdm(enumerate(posterior_list)):\n",
    "    for idx, n_gram in enumerate(itr[0]):\n",
    "        tmp_n = ngram_list.index(n_gram)\n",
    "        p_score = float(itr[2][idx])/float(itr[1][idx])\n",
    "        polarity_scores[i][tmp_n] = p_score\n",
    "\n"
   ]
  },
  {
   "cell_type": "code",
   "execution_count": 72,
   "metadata": {},
   "outputs": [],
   "source": [
    "polarity_scores.shape\n",
    "for i, v in enumerate(polarity_scores):\n",
    "    for j, w in enumerate(v):\n",
    "         if polarity_scores[i][j] == 0:\n",
    "             polarity_scores[i][j] = None"
   ]
  },
  {
   "cell_type": "code",
   "execution_count": 80,
   "metadata": {},
   "outputs": [],
   "source": [
    "df_p_scores = pd.DataFrame(polarity_scores)\n",
    "df_p_scores = df_p_scores.fillna(df_p_scores.mean())"
   ]
  },
  {
   "cell_type": "code",
   "execution_count": 81,
   "metadata": {},
   "outputs": [
    {
     "output_type": "execute_result",
     "data": {
      "text/plain": "0     0\n1     0\n2     0\n3     0\n4     0\n5     0\n6     0\n7     0\n8     0\n9     0\n10    0\n11    0\n12    0\n13    0\n14    0\n15    0\n16    0\n17    0\n18    0\n19    0\n20    0\n21    0\n22    0\n23    0\n24    0\n25    0\n26    0\n27    0\n28    0\n29    0\ndtype: int64"
     },
     "metadata": {},
     "execution_count": 81
    }
   ],
   "source": [
    "df_p_scores.T.isnull().sum()"
   ]
  },
  {
   "cell_type": "code",
   "execution_count": 83,
   "metadata": {},
   "outputs": [],
   "source": [
    "avg_polarity_scores = list(df_p_scores.mean())"
   ]
  },
  {
   "cell_type": "code",
   "execution_count": 91,
   "metadata": {},
   "outputs": [
    {
     "output_type": "execute_result",
     "data": {
      "text/plain": "                  0\n6자회담/nng   0.947129\na+등급/nng   0.957388\na-등급/nng   0.977763\naa+등급/nng  1.017369\naa-등급/nng  1.069961\n...             ...\n女/nng      1.149213\n年/nng      0.956851\n聯/nng      1.012185\n利/nng      1.000047\n李/nng      1.039926\n\n[19749 rows x 1 columns]",
      "text/html": "<div>\n<style scoped>\n    .dataframe tbody tr th:only-of-type {\n        vertical-align: middle;\n    }\n\n    .dataframe tbody tr th {\n        vertical-align: top;\n    }\n\n    .dataframe thead th {\n        text-align: right;\n    }\n</style>\n<table border=\"1\" class=\"dataframe\">\n  <thead>\n    <tr style=\"text-align: right;\">\n      <th></th>\n      <th>0</th>\n    </tr>\n  </thead>\n  <tbody>\n    <tr>\n      <th>6자회담/nng</th>\n      <td>0.947129</td>\n    </tr>\n    <tr>\n      <th>a+등급/nng</th>\n      <td>0.957388</td>\n    </tr>\n    <tr>\n      <th>a-등급/nng</th>\n      <td>0.977763</td>\n    </tr>\n    <tr>\n      <th>aa+등급/nng</th>\n      <td>1.017369</td>\n    </tr>\n    <tr>\n      <th>aa-등급/nng</th>\n      <td>1.069961</td>\n    </tr>\n    <tr>\n      <th>...</th>\n      <td>...</td>\n    </tr>\n    <tr>\n      <th>女/nng</th>\n      <td>1.149213</td>\n    </tr>\n    <tr>\n      <th>年/nng</th>\n      <td>0.956851</td>\n    </tr>\n    <tr>\n      <th>聯/nng</th>\n      <td>1.012185</td>\n    </tr>\n    <tr>\n      <th>利/nng</th>\n      <td>1.000047</td>\n    </tr>\n    <tr>\n      <th>李/nng</th>\n      <td>1.039926</td>\n    </tr>\n  </tbody>\n</table>\n<p>19749 rows × 1 columns</p>\n</div>"
     },
     "metadata": {},
     "execution_count": 91
    }
   ],
   "source": [
    "ps = pd.DataFrame(avg_polarity_scores, index=ngram_list)\n",
    "ps"
   ]
  },
  {
   "cell_type": "code",
   "execution_count": 92,
   "metadata": {},
   "outputs": [
    {
     "output_type": "execute_result",
     "data": {
      "text/plain": "                0\n丙/nng    0.545408\n甘/nng    1.787920\n申年/nng   0.556042\n鳶/nng    1.767757\n간통죄/nng  1.826636\n...           ...\n헌병/nng   0.540591\n호위/nng   1.771172\n홍여새/nng  1.769017\n확성기/nng  0.549591\n흑백/nng   1.859091\n\n[176 rows x 1 columns]",
      "text/html": "<div>\n<style scoped>\n    .dataframe tbody tr th:only-of-type {\n        vertical-align: middle;\n    }\n\n    .dataframe tbody tr th {\n        vertical-align: top;\n    }\n\n    .dataframe thead th {\n        text-align: right;\n    }\n</style>\n<table border=\"1\" class=\"dataframe\">\n  <thead>\n    <tr style=\"text-align: right;\">\n      <th></th>\n      <th>0</th>\n    </tr>\n  </thead>\n  <tbody>\n    <tr>\n      <th>丙/nng</th>\n      <td>0.545408</td>\n    </tr>\n    <tr>\n      <th>甘/nng</th>\n      <td>1.787920</td>\n    </tr>\n    <tr>\n      <th>申年/nng</th>\n      <td>0.556042</td>\n    </tr>\n    <tr>\n      <th>鳶/nng</th>\n      <td>1.767757</td>\n    </tr>\n    <tr>\n      <th>간통죄/nng</th>\n      <td>1.826636</td>\n    </tr>\n    <tr>\n      <th>...</th>\n      <td>...</td>\n    </tr>\n    <tr>\n      <th>헌병/nng</th>\n      <td>0.540591</td>\n    </tr>\n    <tr>\n      <th>호위/nng</th>\n      <td>1.771172</td>\n    </tr>\n    <tr>\n      <th>홍여새/nng</th>\n      <td>1.769017</td>\n    </tr>\n    <tr>\n      <th>확성기/nng</th>\n      <td>0.549591</td>\n    </tr>\n    <tr>\n      <th>흑백/nng</th>\n      <td>1.859091</td>\n    </tr>\n  </tbody>\n</table>\n<p>176 rows × 1 columns</p>\n</div>"
     },
     "metadata": {},
     "execution_count": 92
    }
   ],
   "source": [
    "ps[ps[0].apply(lambda x: x > 1.3 or x < 0.7)]"
   ]
  },
  {
   "cell_type": "code",
   "execution_count": null,
   "metadata": {},
   "outputs": [],
   "source": [
    "=========================================여기 밑에는 이전꺼(ramdom_state = i 설정 하기 전)==================="
   ]
  },
  {
   "cell_type": "code",
   "execution_count": null,
   "metadata": {},
   "outputs": [],
   "source": []
  },
  {
   "cell_type": "code",
   "execution_count": 58,
   "metadata": {},
   "outputs": [
    {
     "output_type": "execute_result",
     "data": {
      "text/plain": "array([-1,  1], dtype=int64)"
     },
     "metadata": {},
     "execution_count": 58
    }
   ],
   "source": [
    "clf.classes_ "
   ]
  },
  {
   "cell_type": "code",
   "execution_count": 31,
   "metadata": {},
   "outputs": [
    {
     "output_type": "execute_result",
     "data": {
      "text/plain": "[array([4, 5, 6]), array([7, 8, 9])]"
     },
     "metadata": {},
     "execution_count": 31
    }
   ],
   "source": [
    "list(p)"
   ]
  },
  {
   "cell_type": "code",
   "execution_count": 12,
   "metadata": {},
   "outputs": [
    {
     "data": {
      "text/plain": "['6자회담/nng',\n 'a+등급/nng',\n 'a-등급/nng',\n 'aa+등급/nng',\n 'aa-등급/nng',\n 'aaa등급/nng',\n 'aa등급/nng',\n 'asp/nng',\n 'a등급/nng',\n 'bbb+등급/nng',\n 'bbb-등급/nng',\n 'bbb등급/nng',\n 'bb등급/nng',\n 'bei/nng',\n 'bis/nng',\n 'bps/nng',\n 'bw/nng',\n 'cac40/nng',\n 'cb/nng',\n 'cd/nng',\n 'cd/nng;금리/nng;상승/nng',\n 'cds/nng',\n 'cp/nng',\n 'crb/nng',\n 'crs/nng',\n 'db/nng',\n 'dc/nng',\n 'dps/nng',\n 'dr/nng',\n 'd의공포/nng',\n 'eb/nng',\n 'ebitda/nng',\n 'ecb/nng',\n 'ecb/nng;금리/nng;인상/nng',\n 'els/nng',\n 'eps/nng',\n 'etf/nng',\n 'etn/nng',\n 'fcf/nng',\n 'fed/nng',\n 'fed/nng;금리/nng;인상/nng',\n 'ff/nng',\n 'ftse/nng',\n 'ftse100/nng',\n 'fx스왑/nng',\n 'g7/nng',\n 'g8/nng',\n 'gdi/nng',\n 'gdp/nng',\n 'gdr/nng',\n 'gni/nng',\n 'icbm/nng',\n 'ira/nng',\n 'irs/nng',\n 'ism/nng',\n 'l자형/nng',\n 'm&a/nng',\n 'mmf/nng',\n 'msci/nng',\n 'ndf시장/nng',\n 'oecd/nng',\n 'ois스프레드/nng',\n 'opec/nng',\n 'p2p대출/nng',\n 'pbr/nng',\n 'pce/nng',\n 'per/nng',\n 'pf/nng',\n 'pmi/nng',\n 'qfii/nng',\n 'rbc비율/nng',\n 'rim/nng',\n 'roa/nng',\n 'roe/nng',\n 'rp/nng',\n 'rqfii/nng',\n 's&p/nng',\n 's&p500/nng',\n 'ted스프레드/nng',\n 'u자형/nng',\n 'v자형/nng',\n 'wto/nng',\n 'w자형/nng',\n 'ㅁ/nng',\n 'ㅣ/nng',\n '丁/nng',\n '上海/nng',\n '世/nng',\n '丙/nng',\n '中企/nng',\n '中國/nng',\n '之/nng',\n '乙/nng',\n '井/nng',\n '京/nng',\n '人/nng',\n '伊/nng',\n '低下/nng',\n '佛/nng',\n '俊彦/nng',\n '保/nng',\n '信/nng',\n '倍/nng',\n '元/nng',\n '先/nng',\n '光/nng',\n '全/nng',\n '公/nng',\n '前/nng',\n '加/nng',\n '勇/nng',\n '北/nng',\n '北京/nng',\n '北美/nng',\n '南/nng',\n '博/nng',\n '印/nng',\n '印尼/nng',\n '反/nng',\n '史/nng',\n '右/nng',\n '司/nng',\n '吳/nng',\n '周/nng',\n '國/nng',\n '均/nng',\n '報/nng',\n '場/nng',\n '夏/nng',\n '外/nng',\n '大戰/nng',\n '大田/nng',\n '太/nng',\n '夫/nng',\n '失/nng',\n '失期/nng',\n '奉/nng',\n '姜/nng',\n '子/nng',\n '孫/nng',\n '安/nng',\n '宋/nng',\n '家/nng',\n '家寶/nng',\n '對中/nng',\n '對北/nng',\n '對美/nng',\n '小川/nng',\n '尹/nng',\n '尾/nng',\n '山/nng',\n '崔/nng',\n '州/nng',\n '左/nng',\n '差/nng',\n '市/nng',\n '平/nng',\n '年/nng',\n '幸/nng',\n '康/nng',\n '張/nng',\n '强/nng',\n '後/nng',\n '得/nng',\n '德/nng',\n '志/nng',\n '情/nng',\n '扁/nng',\n '手/nng',\n '換/nng',\n '文/nng',\n '新/nng',\n '方明/nng',\n '明/nng',\n '春節/nng',\n '會/nng',\n '月/nng',\n '木/nng',\n '朴/nng',\n '東/nng',\n '東京/nng',\n '松/nng',\n '株/nng',\n '核/nng',\n '案/nng',\n '武/nng',\n '母/nng',\n '毒/nng',\n '比/nng',\n '氏/nng',\n '氣/nng',\n '水/nng',\n '永/nng',\n '江/nng',\n '法/nng',\n '泰/nng',\n '海/nng',\n '淸/nng',\n '準/nng',\n '溫/nng',\n '潘/nng',\n '濠/nng',\n '獨/nng',\n '王/nng',\n '現/nng',\n '甘/nng',\n '生太/nng',\n '田/nng',\n '甲/nng',\n '申/nng',\n '申年/nng',\n '男/nng',\n '異/nng',\n '白/nng',\n '直/nng',\n '省/nng',\n '矢/nng',\n '短/nng',\n '硏/nng',\n '社/nng',\n '神/nng',\n '福/nng',\n '秀/nng',\n '稅/nng',\n '純/nng',\n '經/nng',\n '經濟/nng',\n '綱/nng',\n '網/nng',\n '臺/nng',\n '與/nng',\n '與野/nng',\n '興業/nng',\n '苦/nng',\n '英/nng',\n '藤/nng',\n '藥/nng',\n '蘇/nng',\n '號/nng',\n '行/nng',\n '西/nng',\n '西村/nng',\n '視界/nng',\n '觀/nng',\n '訴/nng',\n '說/nng',\n '謝/nng',\n '證/nng',\n '證券/nng',\n '谷/nng',\n '財/nng',\n '質/nng',\n '車/nng',\n '軍/nng',\n '逆/nng',\n '通/nng',\n '道/nng',\n '選/nng',\n '郞/nng',\n '鄭/nng',\n '重/nng',\n '野/nng',\n '金/nng',\n '銀/nng',\n '銅/nng',\n '銘/nng',\n '錦/nng',\n '鐵/nng',\n '陳/nng',\n '靈/nng',\n '靑/nng',\n '韓/nng',\n '韓中/nng',\n '韓美/nng',\n '韓銀/nng',\n '順/nng',\n '馬/nng',\n '高/nng',\n '高下/nng',\n '高高/nng',\n '魔/nng',\n '鳶/nng',\n '麻/nng',\n '黑/nng',\n '黨/nng',\n '가/nng',\n '가/vv',\n '가가/nng',\n '가감/nng',\n '가게/nng',\n '가격/nng',\n '가격/nng;부담/nng',\n '가격/nng;상승/nng',\n '가격/nng;하락/nng',\n '가격결정/nng',\n '가격결정력/nng',\n '가격경쟁/nng',\n '가격규제/nng',\n '가격대/nng',\n '가격변수/nng',\n '가격산정/nng',\n '가격선/nng',\n '가격제한폭/nng',\n '가격조건/nng',\n '가격지불/nng',\n '가격차/nng',\n '가격파괴/nng',\n '가결/nng',\n '가계/nng',\n '가계/nng;대출/nng;증가/nng',\n '가계/nng;부채/nng;증가/nng',\n '가계부/nng',\n '가계약/nng',\n '가공/nng',\n '가교/nng',\n '가구수/nng',\n '가구원/nng',\n '가구주/nng',\n '가권지수/nng',\n '가근/nng',\n '가금/nng',\n '가급적/vax',\n '가까스로/mag',\n '가까이/mag',\n '가까이/nng',\n '가깝/va',\n '가깝/vv',\n '가끔/mag',\n '가나/nng',\n '가나다순/nng',\n '가난/nng',\n '가늠/nng',\n '가늠자/nng',\n '가능/nng',\n '가능성/nng',\n '가다듬/vv',\n '가닥/nng',\n '가담/nng',\n '가도/nng',\n '가동/nng',\n '가동률/nng',\n '가두/vv',\n '가드/nng',\n '가득/mag',\n '가든/nng',\n '가뜩이나/mag',\n '가라앉/vv',\n '가락/nng',\n '가람/nng',\n '가량/mag',\n '가량/nng',\n '가려/vv',\n '가려내/vv',\n '가려서/vv',\n '가려야/vv',\n '가려져/vv',\n '가려졌/vv',\n '가려진/vv',\n '가령/mag',\n '가로/mag',\n '가로/nng',\n '가로막/vv',\n '가론/nng',\n '가르/vv',\n '가르치/vv',\n '가를/vv',\n '가리/vv',\n '가리키/vv',\n '가리킨다/vv',\n '가릴/vv',\n '가만/mag',\n '가만히/mag',\n '가맹/nng',\n '가맹점/nng',\n '가명/nng',\n '가뭄/nng',\n '가미/nng',\n '가방/nng',\n '가변/nng',\n '가변성/nng',\n '가볍/va',\n '가뿐히/mag',\n '가쁘/va',\n '가사/nng',\n '가산/nng',\n '가산점/nng',\n '가상/nng',\n '가설/nng',\n '가세/nng',\n '가속/nng',\n '가속기/nng',\n '가속도/nng',\n '가솔린/nng',\n '가수/nng',\n '가수급/nng',\n '가수요/nng',\n '가스/nng',\n '가슴/nng',\n '가시/nng',\n '가시/vv',\n '가시권/nng',\n '가시밭길/nng',\n '가시성/nng',\n '가시화/nng',\n '가신/vv',\n '가압류/nng',\n '가액/nng',\n '가업/nng',\n '가열/nng',\n '가예산/nng',\n '가요/nng',\n '가용/nng',\n '가용성/nng',\n '가운/nng',\n '가운데/nng',\n '가을철/nng',\n '가의/nng',\n '가이/nng',\n '가이던스/nng',\n '가이드/nng',\n '가이드라인/nng',\n '가인/nng',\n '가입/nng',\n '가입금액/nng',\n '가입비/nng',\n '가입연령/nng',\n '가입일/nng',\n '가자지구/nng',\n '가장/mag',\n '가장/nng',\n '가전제품/nng',\n '가점/nng',\n '가점제/nng',\n '가정/nng',\n '가져/vv',\n '가져가/vv',\n '가져간/vv',\n '가져갈/vv',\n '가져갔/vv',\n '가져다/vv',\n '가져다주/vv',\n '가져다줄/vv',\n '가져볼/vv',\n '가져야/vv',\n '가져오/vv',\n '가져온/vv',\n '가져온다/vv',\n '가져올지/vv',\n '가져와/vv',\n '가졌/vv',\n '가족/nng',\n '가중/nng',\n '가중치/nng',\n '가지/nng',\n '가지/vv',\n '가진다는/vv',\n '가집/nng',\n '가집행/nng',\n '가짜/nng',\n '가처분/nng',\n '가청산/nng',\n '가축/nng',\n '가출/nng',\n '가치주/nng',\n '가치투자/nng',\n '가치평가/nng',\n '가칭/nng',\n '가토/nng',\n '가트/nng',\n '가파/nng',\n '가파르/va',\n '가판/nng',\n '가피/nng',\n '가하/vv',\n '가한/vv',\n '가한다/vv',\n '가해/vv',\n '가해야/vv',\n '가해진/vv',\n '가해질/vv',\n '가혹/nng',\n '가히/mag',\n '각/nng',\n '각개/nng',\n '각계/nng',\n '각광/nng',\n '각국/nng',\n '각기/mag',\n '각도/nng',\n '각론/nng',\n '각료/nng',\n '각료회의/nng',\n '각별/nng',\n '각별히/mag',\n '각사/nng',\n '각서/nng',\n '각오/nng',\n '각의/nng',\n '각인/nng',\n '각자/mag',\n '각자/nng',\n '각종/nng',\n '각지/nng',\n '각축/nng',\n '간간이/mag',\n '간간히/mag',\n '간격/nng',\n '간과/nng',\n '간극/nng',\n '간다/vv',\n '간다고/vv',\n '간다는/vv',\n '간다면/vv',\n '간단/nng',\n '간단히/mag',\n '간략/nng',\n '간발/nng',\n '간밤/nng',\n '간부/nng',\n '간부회의/nng',\n '간사/nng',\n '간사인/nng',\n '간섭/nng',\n '간소/nng',\n '간신히/mag',\n '간절/nng',\n '간절히/mag',\n '간접/nng',\n '간접금융/nng',\n '간접지원/nng',\n '간접투자/nng',\n '간접투자상품/nng',\n '간접투자시장/nng',\n '간주/nng',\n '간추/nng',\n '간파/nng',\n '간편/nng',\n '간헐/nng',\n '간혹/mag',\n '갇혀/vv',\n '갇혔/vv',\n '갇히/vv',\n '갇힌/vv',\n '갇힐/vv',\n '갈/vv',\n '갈구/nng',\n '갈길/vv',\n '갈까/vv',\n '갈등/nng',\n '갈랐/vv',\n '갈래/nng',\n '갈려/vv',\n '갈렸/vv',\n '갈리/vv',\n '갈린다/vv',\n '갈릴/vv',\n '갈림길/nng',\n '갈망/nng',\n '갈비/nng',\n '갈수록/mag',\n '갈아치우/vv',\n '갈아타/vv',\n '갈아탄/vv',\n '갈아탈/vv',\n '갈아탔/vv',\n '갈증/nng',\n '갈지/vv',\n '갈팡질팡/mag',\n '갈피/nng',\n '갉아먹/vv',\n '감/nng',\n '감/vv',\n '감가/nng',\n '감가상각/nng',\n '감가상각비/nng',\n '감각/nng',\n '감격/nng',\n '감경/nng',\n '감기/nng',\n '감내/nng',\n '감당/nng',\n '감도/vv',\n '감독/nng',\n '감독국/nng',\n '감독권/nng',\n '감독규제/nng',\n '감독원/nng',\n '감독청/nng',\n '감돌/vv',\n '감동/nng',\n '감리/nng',\n '감면/nng',\n '감면권/nng',\n '감사/nng',\n '감사보고서/nng',\n '감사원/nng',\n '감사원장/nng',\n '감사장/nng',\n '감사절/nng',\n '감산/nng',\n '감상/nng',\n '감성/nng',\n '감세/nng',\n '감세안/nng',\n '감세정책/nng',\n '감소/nng',\n '감소분/nng',\n '감소액/nng',\n '감속/nng',\n '감수/nng',\n '감시/nng',\n '감싸/vv',\n '감안/nng',\n '감액/nng',\n '감원/nng',\n '감원계획/nng',\n '감자/nng',\n '감점/nng',\n '감정/nng',\n '감정가/nng',\n '감정평가/nng',\n '감지/nng',\n '감찰/nng',\n '감청/nng',\n '감추/vv',\n '감축/nng',\n '감축계획/nng',\n '감축목표/nng',\n '감축안/nng',\n '감춘/vv',\n '감출/vv',\n '감춰/vv',\n '감췄/vv',\n '감퇴/nng',\n '감행/nng',\n '감회/nng',\n '감히/mag',\n '갑/nng',\n '갑론을박/nng',\n '갑부/nng',\n '갑작/mag',\n '갑작/nng',\n '갑작/va',\n '갑작스레/mag',\n '갓/mag',\n '갔었/vv',\n '강/nng',\n '강건/nng',\n '강경/nng',\n '강경파/nng',\n '강구/nng',\n '강국/nng',\n '강단/nng',\n '강달러/nng',\n '강당/nng',\n '강대국/nng',\n '강도/nng',\n '강도높게/mag',\n '강동/mag',\n '강등/nng',\n '강력/nng',\n '강력매수/nng',\n '강력히/mag',\n '강렬/nng',\n '강문/nng',\n '강변/nng',\n '강보합/nng',\n '강북/nng',\n '강사/nng',\n '강서/nng',\n '강성/nng',\n '강세/nng',\n '강세장/nng',\n '강소기업/nng',\n '강수/nng',\n '강신/nng',\n '강압/nng',\n '강연/nng',\n '강연자/nng',\n '강연회/nng',\n '강요/nng',\n '강원/nng',\n '강의/nng',\n '강자/nng',\n '강점/nng',\n '강정/nng',\n '강제/nng',\n '강제성/nng',\n '강조/nng',\n '강좌/nng',\n '강진/nng',\n '강철/nng',\n '강타/nng',\n '강풍/nng',\n '강하/va',\n '강하/vv',\n '강행/nng',\n '강행군/nng',\n '강호/nng',\n '강화/nng',\n '갖가지/nng',\n '갖추/vv',\n '갖출/vv',\n '갖춰/vv',\n '갖춰야/vv',\n '갖춰져/vv',\n '갖춰졌/vv',\n '갖춰진/vv',\n '갖췄/vv',\n '같/va',\n '같이/mag',\n '갚/vv',\n '개/nng',\n '개/vv',\n '개각/nng',\n '개개인/nng',\n '개관/nng',\n '개교/nng',\n '개구/nng',\n '개구리/nng',\n '개국/nng',\n '개그맨/nng',\n '개념/nng',\n '개동/nng',\n '개량/nng',\n '개리/nng',\n '개막/nng',\n '개막식/nng',\n '개미/nng',\n '개발/nng',\n '개발계획/nng',\n '개발공사/nng',\n '개발부담금/nng',\n '개발붐/nng',\n '개발비/nng',\n '개발사업/nng',\n '개발은행/nng',\n '개발이익/nng',\n '개발자/nng',\n '개방/nng',\n '개방경제/nng',\n '개방형/nng',\n '개별기업/nng',\n '개별소비세/nng',\n '개별종목/nng',\n '개별주/nng',\n '개별주식/nng',\n '개별주식선물/nng',\n '개별주식옵션/nng',\n '개보/nng',\n '개봉/nng',\n '개선/nng',\n '개선/nng;추세/nng',\n '개선책/nng',\n '개설/nng',\n '개성/nng',\n '개성공단/nng',\n '개소/nng',\n '개소식/nng',\n '개수/nng',\n '개시/nng',\n '개양/nng',\n '개업/nng',\n '개연/nng',\n '개요/nng',\n '개운/nng',\n '개원/nng',\n '개원식/nng',\n '개의/nng',\n '개인/nng',\n '개인기업/nng',\n '개인부문/nng',\n '개인비중/nng',\n '개인사업자/nng',\n '개인연금/nng',\n '개인영업/nng',\n '개인워크아웃/nng',\n '개인자금/nng',\n '개인정보/nng',\n '개인퇴직계좌/nng',\n '개인파산/nng',\n '개입/nng',\n '개입설/nng',\n '개장/nng',\n '개장전/nng',\n '개장후/nng',\n '개점/nng',\n '개점휴업/nng',\n '개정/nng',\n '개정안/nng',\n '개조/nng',\n '개주/nng',\n '개진/nng',\n '개척/nng',\n '개최/nng',\n '개최지/nng',\n '개축/nng',\n '개통/nng',\n '개편/nng',\n '개편안/nng',\n '개포/nng',\n '개표/nng',\n '개학/nng',\n '개헌/nng',\n '개혁/nng',\n '개혁안/nng',\n '개혁의지/nng',\n '개회/nng',\n '개회사/nng',\n '객/nng',\n '객관/nng',\n '객관적으로/mag',\n '객실/nng',\n '객장/nng',\n '갤러리/nng',\n '갤런/nng',\n '갭/nng',\n '갭상승/nng',\n '갭하락/nng',\n '갱신/nng',\n '갸우뚱/mag',\n '거/vv',\n '거꾸로/mag',\n '거느리/vv',\n '거대/nng',\n '거대기업/nng',\n '거두/vv',\n '거둔/vv',\n '거둘/vv',\n '거둘지/vv',\n '거둬/vv',\n '거둬들여야/vv',\n '거둬들였/vv',\n '거둬들이/vv',\n '거둬들인/vv',\n '거둬들일/vv',\n '거뒀/vv',\n '거들/vv',\n '거듭/mag',\n '거듭나/vv',\n '거듭날/vv',\n '거뜬/nng',\n '거래/nng',\n '거래규제/nng',\n '거래금액/nng',\n '거래기업/nng',\n '거래단위/nng',\n '거래대금/nng',\n '거래법/nng',\n '거래비용/nng',\n '거래비중/nng',\n '거래세/nng',\n '거래소/nng',\n '거래액/nng',\n '거래일/nng',\n '거래자/nng',\n '거래제/nng',\n '거래주체/nng',\n '거래질서/nng',\n '거래처/nng',\n '거래패턴/nng',\n '거래한도/nng',\n '거론/nng',\n '거르/vv',\n '거리/nng',\n '거리/vv',\n '거리/xsv',\n '거린/xsv',\n '거릴/xsv',\n '거물/nng',\n '거버넌스/nng',\n '거부/nng',\n '거북/nng',\n '거세/va',\n '거센/va',\n '거셀/va',\n '거셌/va',\n '거수기/nng',\n '거스르/vv',\n '거스를/vv',\n '거슬러/vv',\n '거시/nng',\n '거시건전성3종세트/nng',\n '거시경제금융회의/nng',\n '거시변수/nng',\n '거시정책/nng',\n '거실/nng',\n '거액/nng',\n '거액자산가/nng',\n '거용/nng',\n '거울/nng',\n '거의/mag',\n '거인/nng',\n '거장/nng',\n '거절/nng',\n '거점/nng',\n '거주/nng',\n '거주자/nng',\n '거주지/nng',\n '거지/nng',\n '거짓/nng',\n '거짓말/nng',\n '거쳐서/vv',\n '거쳐야/vv',\n '거촌/nng',\n '거취/nng',\n '거치/nng',\n '거치/vv',\n '거치기간/nng',\n '거치식/nng',\n '거친/va',\n '거친/vv',\n '거칠/va',\n '거칠/vv',\n '거침없/va',\n '거침없이/mag',\n '거품/nng',\n '걱정/nng',\n '걱정거리/nng',\n '건/nng',\n '건/vv',\n '건과/nng',\n '건교부/nng',\n '건국/nng',\n '건너/nng',\n '건너/vv',\n '건너뛰/vv',\n '건너편/nng',\n '건네/vv',\n '건다/vv',\n '건당/nng',\n '건도/nng',\n '건드리/vv',\n '건드린/vv',\n '건드릴/vv',\n '건립/nng',\n '건물/nng',\n '건배/nng',\n '건별/nng',\n '건보/nng',\n '건설/nng',\n '건설계획/nng',\n '건설공사/nng',\n '건설교통부/nng',\n '건설기업/nng',\n '건설부/nng',\n '건설업/nng',\n '건설업자/nng',\n '건설자금/nng',\n '건설현장/nng',\n '건수/nng',\n '건실/nng',\n '건의/nng',\n '건의안/nng',\n '건재/nng',\n '건전/nng',\n '건전성/nng',\n '건전화/nng',\n '건지/vv',\n '건축/nng',\n '건축자/nng',\n '걷/vv',\n '걷어붙였/vv',\n '걷잡/vv',\n '걷혀/vv',\n '걸/nng',\n '걸/vv',\n '걸러/vv',\n '걸려/vv',\n '걸렸/vv',\n '걸리/nng',\n '걸리/vv',\n '걸린/vv',\n '걸린다/vv',\n '걸린다고/vv',\n '걸린다는/vv',\n '걸릴지/vv',\n '걸림돌/nng',\n '걸맞/va',\n '걸어가/vv',\n '걸어서/vv',\n '걸어야/vv',\n '걸어왔/vv',\n '걸음/nng',\n '걸음마/nng',\n '걸작/nng',\n '걸쳐서/vv',\n '걸치/vv',\n '검/nng',\n '검/va',\n '검거/nng',\n '검단/nng',\n '검사/nng',\n '검색/nng',\n '검소/nng',\n '검역/nng',\n '검열/nng',\n '검증/nng',\n '검진/nng',\n '검출/nng',\n ...]"
     },
     "execution_count": 12,
     "metadata": {},
     "output_type": "execute_result"
    }
   ],
   "source": [
    "vect = text_clf.named_steps['vect']\n",
    "\n",
    "vect.get_feature_names()"
   ]
  },
  {
   "cell_type": "code",
   "execution_count": 40,
   "metadata": {
    "scrolled": true
   },
   "outputs": [
    {
     "data": {
      "text/plain": [
       "(1, 18787)"
      ]
     },
     "execution_count": 40,
     "metadata": {},
     "output_type": "execute_result"
    }
   ],
   "source": [
    "avg_polarity_score.shape"
   ]
  },
  {
   "cell_type": "code",
   "execution_count": 34,
   "metadata": {},
   "outputs": [
    {
     "data": {
      "text/plain": [
       "18787"
      ]
     },
     "execution_count": 34,
     "metadata": {},
     "output_type": "execute_result"
    }
   ],
   "source": [
    "len(vect.get_feature_names())"
   ]
  },
  {
   "cell_type": "code",
   "execution_count": 13,
   "metadata": {},
   "outputs": [
    {
     "data": {
      "text/html": "<div>\n<style scoped>\n    .dataframe tbody tr th:only-of-type {\n        vertical-align: middle;\n    }\n\n    .dataframe tbody tr th {\n        vertical-align: top;\n    }\n\n    .dataframe thead th {\n        text-align: right;\n    }\n</style>\n<table border=\"1\" class=\"dataframe\">\n  <thead>\n    <tr style=\"text-align: right;\">\n      <th></th>\n      <th>0</th>\n    </tr>\n  </thead>\n  <tbody>\n    <tr>\n      <th>6자회담/nng</th>\n      <td>0.946671</td>\n    </tr>\n    <tr>\n      <th>a+등급/nng</th>\n      <td>0.959866</td>\n    </tr>\n    <tr>\n      <th>a-등급/nng</th>\n      <td>0.990433</td>\n    </tr>\n    <tr>\n      <th>aa+등급/nng</th>\n      <td>1.000245</td>\n    </tr>\n    <tr>\n      <th>aa-등급/nng</th>\n      <td>1.066672</td>\n    </tr>\n    <tr>\n      <th>aaa등급/nng</th>\n      <td>0.994153</td>\n    </tr>\n    <tr>\n      <th>aa등급/nng</th>\n      <td>1.018349</td>\n    </tr>\n    <tr>\n      <th>asp/nng</th>\n      <td>0.909473</td>\n    </tr>\n    <tr>\n      <th>a등급/nng</th>\n      <td>1.011986</td>\n    </tr>\n    <tr>\n      <th>bbb+등급/nng</th>\n      <td>0.981812</td>\n    </tr>\n    <tr>\n      <th>bbb-등급/nng</th>\n      <td>1.057642</td>\n    </tr>\n    <tr>\n      <th>bbb등급/nng</th>\n      <td>1.009068</td>\n    </tr>\n    <tr>\n      <th>bb등급/nng</th>\n      <td>1.005097</td>\n    </tr>\n    <tr>\n      <th>bei/nng</th>\n      <td>0.986402</td>\n    </tr>\n    <tr>\n      <th>bis/nng</th>\n      <td>1.080263</td>\n    </tr>\n    <tr>\n      <th>bps/nng</th>\n      <td>0.938595</td>\n    </tr>\n    <tr>\n      <th>bw/nng</th>\n      <td>0.931853</td>\n    </tr>\n    <tr>\n      <th>cac40/nng</th>\n      <td>1.037113</td>\n    </tr>\n    <tr>\n      <th>cb/nng</th>\n      <td>0.970912</td>\n    </tr>\n    <tr>\n      <th>cd/nng</th>\n      <td>1.042596</td>\n    </tr>\n    <tr>\n      <th>cd/nng;금리/nng;상승/nng</th>\n      <td>0.950752</td>\n    </tr>\n    <tr>\n      <th>cds/nng</th>\n      <td>1.036255</td>\n    </tr>\n    <tr>\n      <th>cp/nng</th>\n      <td>1.096664</td>\n    </tr>\n    <tr>\n      <th>crb/nng</th>\n      <td>1.014601</td>\n    </tr>\n    <tr>\n      <th>crs/nng</th>\n      <td>1.043869</td>\n    </tr>\n    <tr>\n      <th>db/nng</th>\n      <td>1.046199</td>\n    </tr>\n    <tr>\n      <th>dc/nng</th>\n      <td>1.035336</td>\n    </tr>\n    <tr>\n      <th>dps/nng</th>\n      <td>1.021347</td>\n    </tr>\n    <tr>\n      <th>dr/nng</th>\n      <td>0.939758</td>\n    </tr>\n    <tr>\n      <th>d의공포/nng</th>\n      <td>1.213156</td>\n    </tr>\n    <tr>\n      <th>...</th>\n      <td>...</td>\n    </tr>\n    <tr>\n      <th>희석/nng</th>\n      <td>0.950523</td>\n    </tr>\n    <tr>\n      <th>희소가치/nng</th>\n      <td>1.160369</td>\n    </tr>\n    <tr>\n      <th>희소성/nng</th>\n      <td>1.164691</td>\n    </tr>\n    <tr>\n      <th>희소식/nng</th>\n      <td>0.971006</td>\n    </tr>\n    <tr>\n      <th>히/nng</th>\n      <td>0.946407</td>\n    </tr>\n    <tr>\n      <th>히/vv</th>\n      <td>0.964383</td>\n    </tr>\n    <tr>\n      <th>히/xsv</th>\n      <td>1.002392</td>\n    </tr>\n    <tr>\n      <th>히로/nng</th>\n      <td>1.011048</td>\n    </tr>\n    <tr>\n      <th>힌트/nng</th>\n      <td>1.044098</td>\n    </tr>\n    <tr>\n      <th>힐/nng</th>\n      <td>1.087309</td>\n    </tr>\n    <tr>\n      <th>힐링/nng</th>\n      <td>1.235528</td>\n    </tr>\n    <tr>\n      <th>힘/nng</th>\n      <td>0.988425</td>\n    </tr>\n    <tr>\n      <th>힘겨루기/nng</th>\n      <td>1.022717</td>\n    </tr>\n    <tr>\n      <th>힘겹/va</th>\n      <td>0.958252</td>\n    </tr>\n    <tr>\n      <th>힘들/va</th>\n      <td>0.968552</td>\n    </tr>\n    <tr>\n      <th>힘써/vv</th>\n      <td>0.953250</td>\n    </tr>\n    <tr>\n      <th>힘써야/vv</th>\n      <td>0.963199</td>\n    </tr>\n    <tr>\n      <th>힘쓰/vv</th>\n      <td>1.006540</td>\n    </tr>\n    <tr>\n      <th>힘쓸/vv</th>\n      <td>0.987152</td>\n    </tr>\n    <tr>\n      <th>힘없이/mag</th>\n      <td>0.987240</td>\n    </tr>\n    <tr>\n      <th>힘입/vv</th>\n      <td>0.979831</td>\n    </tr>\n    <tr>\n      <th>힘차/va</th>\n      <td>0.960769</td>\n    </tr>\n    <tr>\n      <th>힘찬/va</th>\n      <td>0.911649</td>\n    </tr>\n    <tr>\n      <th>金/nng</th>\n      <td>0.988616</td>\n    </tr>\n    <tr>\n      <th>盧/nng</th>\n      <td>0.964664</td>\n    </tr>\n    <tr>\n      <th>女/nng</th>\n      <td>1.146999</td>\n    </tr>\n    <tr>\n      <th>年/nng</th>\n      <td>0.959549</td>\n    </tr>\n    <tr>\n      <th>聯/nng</th>\n      <td>1.011282</td>\n    </tr>\n    <tr>\n      <th>利/nng</th>\n      <td>0.993401</td>\n    </tr>\n    <tr>\n      <th>李/nng</th>\n      <td>1.044622</td>\n    </tr>\n  </tbody>\n</table>\n<p>18787 rows × 1 columns</p>\n</div>",
      "text/plain": "                             0\n6자회담/nng              0.946671\na+등급/nng              0.959866\na-등급/nng              0.990433\naa+등급/nng             1.000245\naa-등급/nng             1.066672\naaa등급/nng             0.994153\naa등급/nng              1.018349\nasp/nng               0.909473\na등급/nng               1.011986\nbbb+등급/nng            0.981812\nbbb-등급/nng            1.057642\nbbb등급/nng             1.009068\nbb등급/nng              1.005097\nbei/nng               0.986402\nbis/nng               1.080263\nbps/nng               0.938595\nbw/nng                0.931853\ncac40/nng             1.037113\ncb/nng                0.970912\ncd/nng                1.042596\ncd/nng;금리/nng;상승/nng  0.950752\ncds/nng               1.036255\ncp/nng                1.096664\ncrb/nng               1.014601\ncrs/nng               1.043869\ndb/nng                1.046199\ndc/nng                1.035336\ndps/nng               1.021347\ndr/nng                0.939758\nd의공포/nng              1.213156\n...                        ...\n희석/nng                0.950523\n희소가치/nng              1.160369\n희소성/nng               1.164691\n희소식/nng               0.971006\n히/nng                 0.946407\n히/vv                  0.964383\n히/xsv                 1.002392\n히로/nng                1.011048\n힌트/nng                1.044098\n힐/nng                 1.087309\n힐링/nng                1.235528\n힘/nng                 0.988425\n힘겨루기/nng              1.022717\n힘겹/va                 0.958252\n힘들/va                 0.968552\n힘써/vv                 0.953250\n힘써야/vv                0.963199\n힘쓰/vv                 1.006540\n힘쓸/vv                 0.987152\n힘없이/mag               0.987240\n힘입/vv                 0.979831\n힘차/va                 0.960769\n힘찬/va                 0.911649\n金/nng                 0.988616\n盧/nng                 0.964664\n女/nng                 1.146999\n年/nng                 0.959549\n聯/nng                 1.011282\n利/nng                 0.993401\n李/nng                 1.044622\n\n[18787 rows x 1 columns]"
     },
     "execution_count": 13,
     "metadata": {},
     "output_type": "execute_result"
    }
   ],
   "source": [
    "polarity_scores = pd.DataFrame(list(avg_polarity_score), columns = vect.get_feature_names()).T\n",
    "polarity_scores"
   ]
  },
  {
   "cell_type": "code",
   "execution_count": 16,
   "metadata": {},
   "outputs": [
    {
     "data": {
      "text/html": "<div>\n<style scoped>\n    .dataframe tbody tr th:only-of-type {\n        vertical-align: middle;\n    }\n\n    .dataframe tbody tr th {\n        vertical-align: top;\n    }\n\n    .dataframe thead th {\n        text-align: right;\n    }\n</style>\n<table border=\"1\" class=\"dataframe\">\n  <thead>\n    <tr style=\"text-align: right;\">\n      <th></th>\n      <th>0</th>\n    </tr>\n  </thead>\n  <tbody>\n    <tr>\n      <th>丙/nng</th>\n      <td>0.546383</td>\n    </tr>\n    <tr>\n      <th>甘/nng</th>\n      <td>1.784487</td>\n    </tr>\n    <tr>\n      <th>申年/nng</th>\n      <td>0.556876</td>\n    </tr>\n    <tr>\n      <th>鳶/nng</th>\n      <td>1.767705</td>\n    </tr>\n    <tr>\n      <th>걸/nng</th>\n      <td>1.806759</td>\n    </tr>\n    <tr>\n      <th>걸작/nng</th>\n      <td>1.784487</td>\n    </tr>\n    <tr>\n      <th>공유형모기지/nng</th>\n      <td>1.989147</td>\n    </tr>\n    <tr>\n      <th>교관/nng</th>\n      <td>1.784487</td>\n    </tr>\n    <tr>\n      <th>구민/nng</th>\n      <td>1.302410</td>\n    </tr>\n    <tr>\n      <th>구스타브/nng</th>\n      <td>0.508210</td>\n    </tr>\n    <tr>\n      <th>구제금융법안/nng</th>\n      <td>1.522697</td>\n    </tr>\n    <tr>\n      <th>구제금융협상안/nng</th>\n      <td>1.832416</td>\n    </tr>\n    <tr>\n      <th>구한/nng</th>\n      <td>1.806759</td>\n    </tr>\n    <tr>\n      <th>구호물자/nng</th>\n      <td>1.320616</td>\n    </tr>\n    <tr>\n      <th>국민투표/nng</th>\n      <td>1.434806</td>\n    </tr>\n    <tr>\n      <th>국제채권단/nng</th>\n      <td>2.132289</td>\n    </tr>\n    <tr>\n      <th>국채/nng;스프레드/nng;축소/nng</th>\n      <td>0.588956</td>\n    </tr>\n    <tr>\n      <th>그래서/vv</th>\n      <td>1.743816</td>\n    </tr>\n    <tr>\n      <th>그렉시트/nng</th>\n      <td>1.458481</td>\n    </tr>\n    <tr>\n      <th>그리스도인/nng</th>\n      <td>1.849383</td>\n    </tr>\n    <tr>\n      <th>근육질/nng</th>\n      <td>1.792257</td>\n    </tr>\n    <tr>\n      <th>금리/nng;스프레드/nng;부담/nng</th>\n      <td>0.567328</td>\n    </tr>\n    <tr>\n      <th>기괴/nng</th>\n      <td>1.826362</td>\n    </tr>\n    <tr>\n      <th>긴급정상회의/nng</th>\n      <td>1.946709</td>\n    </tr>\n    <tr>\n      <th>까까머리/nng</th>\n      <td>1.826362</td>\n    </tr>\n    <tr>\n      <th>꿀벌/nng</th>\n      <td>1.776318</td>\n    </tr>\n    <tr>\n      <th>끌려간/vv</th>\n      <td>1.864828</td>\n    </tr>\n    <tr>\n      <th>난쟁이/nng</th>\n      <td>1.792257</td>\n    </tr>\n    <tr>\n      <th>남근/nng</th>\n      <td>1.826362</td>\n    </tr>\n    <tr>\n      <th>낭만/nng</th>\n      <td>1.784487</td>\n    </tr>\n    <tr>\n      <th>...</th>\n      <td>...</td>\n    </tr>\n    <tr>\n      <th>저학력/nng</th>\n      <td>1.820081</td>\n    </tr>\n    <tr>\n      <th>적자예산/nng</th>\n      <td>1.810192</td>\n    </tr>\n    <tr>\n      <th>전총/nng</th>\n      <td>0.554309</td>\n    </tr>\n    <tr>\n      <th>전환율/nng</th>\n      <td>1.325123</td>\n    </tr>\n    <tr>\n      <th>진드기/nng</th>\n      <td>1.926754</td>\n    </tr>\n    <tr>\n      <th>짝사랑/nng</th>\n      <td>1.792257</td>\n    </tr>\n    <tr>\n      <th>짬짜미/nng</th>\n      <td>1.908345</td>\n    </tr>\n    <tr>\n      <th>찢어진다/vv</th>\n      <td>1.767705</td>\n    </tr>\n    <tr>\n      <th>천행/nng</th>\n      <td>1.849383</td>\n    </tr>\n    <tr>\n      <th>청산소/nng</th>\n      <td>1.806759</td>\n    </tr>\n    <tr>\n      <th>초능력/nng</th>\n      <td>1.832416</td>\n    </tr>\n    <tr>\n      <th>총살/nng</th>\n      <td>1.816850</td>\n    </tr>\n    <tr>\n      <th>춤사위/nng</th>\n      <td>1.776318</td>\n    </tr>\n    <tr>\n      <th>칠푼/nng</th>\n      <td>1.896353</td>\n    </tr>\n    <tr>\n      <th>카눈/nng</th>\n      <td>1.843912</td>\n    </tr>\n    <tr>\n      <th>코코본드/nng</th>\n      <td>1.326777</td>\n    </tr>\n    <tr>\n      <th>통통/mag</th>\n      <td>1.521289</td>\n    </tr>\n    <tr>\n      <th>투자갭/nng</th>\n      <td>0.554309</td>\n    </tr>\n    <tr>\n      <th>트래블러/nng</th>\n      <td>1.389311</td>\n    </tr>\n    <tr>\n      <th>팔굽혀/vv</th>\n      <td>1.784487</td>\n    </tr>\n    <tr>\n      <th>팔씨름/nng</th>\n      <td>1.776318</td>\n    </tr>\n    <tr>\n      <th>패션쇼/nng</th>\n      <td>1.967651</td>\n    </tr>\n    <tr>\n      <th>퍼가/vv</th>\n      <td>0.485669</td>\n    </tr>\n    <tr>\n      <th>포격사태/nng</th>\n      <td>0.539709</td>\n    </tr>\n    <tr>\n      <th>포사격/nng</th>\n      <td>0.530972</td>\n    </tr>\n    <tr>\n      <th>할배/nng</th>\n      <td>1.792257</td>\n    </tr>\n    <tr>\n      <th>해안포/nng</th>\n      <td>0.517034</td>\n    </tr>\n    <tr>\n      <th>헌병/nng</th>\n      <td>0.539709</td>\n    </tr>\n    <tr>\n      <th>확성기/nng</th>\n      <td>0.547428</td>\n    </tr>\n    <tr>\n      <th>흑백/nng</th>\n      <td>1.869688</td>\n    </tr>\n  </tbody>\n</table>\n<p>136 rows × 1 columns</p>\n</div>",
      "text/plain": "                               0\n丙/nng                   0.546383\n甘/nng                   1.784487\n申年/nng                  0.556876\n鳶/nng                   1.767705\n걸/nng                   1.806759\n걸작/nng                  1.784487\n공유형모기지/nng              1.989147\n교관/nng                  1.784487\n구민/nng                  1.302410\n구스타브/nng                0.508210\n구제금융법안/nng              1.522697\n구제금융협상안/nng             1.832416\n구한/nng                  1.806759\n구호물자/nng                1.320616\n국민투표/nng                1.434806\n국제채권단/nng               2.132289\n국채/nng;스프레드/nng;축소/nng  0.588956\n그래서/vv                  1.743816\n그렉시트/nng                1.458481\n그리스도인/nng               1.849383\n근육질/nng                 1.792257\n금리/nng;스프레드/nng;부담/nng  0.567328\n기괴/nng                  1.826362\n긴급정상회의/nng              1.946709\n까까머리/nng                1.826362\n꿀벌/nng                  1.776318\n끌려간/vv                  1.864828\n난쟁이/nng                 1.792257\n남근/nng                  1.826362\n낭만/nng                  1.784487\n...                          ...\n저학력/nng                 1.820081\n적자예산/nng                1.810192\n전총/nng                  0.554309\n전환율/nng                 1.325123\n진드기/nng                 1.926754\n짝사랑/nng                 1.792257\n짬짜미/nng                 1.908345\n찢어진다/vv                 1.767705\n천행/nng                  1.849383\n청산소/nng                 1.806759\n초능력/nng                 1.832416\n총살/nng                  1.816850\n춤사위/nng                 1.776318\n칠푼/nng                  1.896353\n카눈/nng                  1.843912\n코코본드/nng                1.326777\n통통/mag                  1.521289\n투자갭/nng                 0.554309\n트래블러/nng                1.389311\n팔굽혀/vv                  1.784487\n팔씨름/nng                 1.776318\n패션쇼/nng                 1.967651\n퍼가/vv                   0.485669\n포격사태/nng                0.539709\n포사격/nng                 0.530972\n할배/nng                  1.792257\n해안포/nng                 0.517034\n헌병/nng                  0.539709\n확성기/nng                 0.547428\n흑백/nng                  1.869688\n\n[136 rows x 1 columns]"
     },
     "execution_count": 16,
     "metadata": {},
     "output_type": "execute_result"
    }
   ],
   "source": [
    "polarity_scores[polarity_scores[0].apply(lambda x: x > 1.3 or x < 0.7)]"
   ]
  }
 ],
 "metadata": {
  "kernelspec": {
   "display_name": "Python 3",
   "language": "python",
   "name": "python3"
  },
  "language_info": {
   "codemirror_mode": {
    "name": "ipython",
    "version": 3
   },
   "file_extension": ".py",
   "mimetype": "text/x-python",
   "name": "python",
   "nbconvert_exporter": "python",
   "pygments_lexer": "ipython3",
   "version": "3.6.5-final"
  }
 },
 "nbformat": 4,
 "nbformat_minor": 4
}