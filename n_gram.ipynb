{
  "nbformat": 4,
  "nbformat_minor": 0,
  "metadata": {
    "colab": {
      "name": "n-gram.ipynb",
      "provenance": [],
      "authorship_tag": "ABX9TyMFMv0oD/QXx8Rk2QjySyXm",
      "include_colab_link": true
    },
    "kernelspec": {
      "name": "python3",
      "display_name": "Python 3"
    }
  },
  "cells": [
    {
      "cell_type": "markdown",
      "metadata": {
        "id": "view-in-github",
        "colab_type": "text"
      },
      "source": [
        "<a href=\"https://colab.research.google.com/github/Jisang-hwang93/BOK_Report_Team1/blob/master/n_gram.ipynb\" target=\"_parent\"><img src=\"https://colab.research.google.com/assets/colab-badge.svg\" alt=\"Open In Colab\"/></a>"
      ]
    },
    {
      "cell_type": "code",
      "metadata": {
        "id": "q3wMMV8EgHcC",
        "colab_type": "code",
        "colab": {}
      },
      "source": [
        "# 진짜 코드\n",
        "\n",
        "from ekonlpy.sentiment import MPCK\n",
        "from datetime import datetime\n",
        "\n",
        "mpck = MPCK()\n",
        "df['token'] = df.content.apply(lambda x: mpck.tokenize(x))\n",
        "df['ngram'] = df.token.apply(lambda x: mpck.ngramize(x))\n",
        "df['token_ngram'] = df['token'] + df['ngram']\n",
        "df['new_date'] = df.date.apply(lambda x: datetime.strptime(x, '%Y-%m-%d'))"
      ],
      "execution_count": null,
      "outputs": []
    }
  ]
}