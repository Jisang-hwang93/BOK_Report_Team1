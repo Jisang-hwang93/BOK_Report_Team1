{
  "nbformat": 4,
  "nbformat_minor": 0,
  "metadata": {
    "colab": {
      "name": "BoK_Project_Team1_data_collection.ipynb",
      "provenance": [],
      "collapsed_sections": [],
      "toc_visible": true,
      "authorship_tag": "ABX9TyNDQ+Sob1rC/BE5SThC6boW",
      "include_colab_link": true
    },
    "kernelspec": {
      "name": "python3",
      "display_name": "Python 3"
    },
    "accelerator": "GPU"
  },
  "cells": [
    {
      "cell_type": "markdown",
      "metadata": {
        "id": "view-in-github",
        "colab_type": "text"
      },
      "source": [
        "<a href=\"https://colab.research.google.com/github/Jisang-hwang93/BOK_Report_Team1/blob/master/BoK_Project_Team1_data_collection.ipynb\" target=\"_parent\"><img src=\"https://colab.research.google.com/assets/colab-badge.svg\" alt=\"Open In Colab\"/></a>"
      ]
    },
    {
      "cell_type": "markdown",
      "metadata": {
        "id": "tEu0p5wrygyp",
        "colab_type": "text"
      },
      "source": [
        "# **데이터 수집**"
      ]
    },
    {
      "cell_type": "markdown",
      "metadata": {
        "id": "R1u5FZHmmT49",
        "colab_type": "text"
      },
      "source": [
        "## **1. 한국은행 금융통화위원회 의사록 다운로드**\n",
        "본 논문에서 사용된 금융통화위원회 의사록의 기간은 **2005년 5월부터 2017년 12월까지**임.\n",
        "\n",
        "**하지만, 해당 코드로는 2005년 8월 9일까지 밖에 다운로드 되지 않음.**\n",
        "\n",
        "이 기간의 의사록을 다운로드하기 위해\n",
        "\n",
        "http://www.bok.or.kr/portal/cmmn/file/fileDown.do?menuNo=200761&atchFileId=KO_00000000000085857&fileSn=2 - **2005년 6월 9일 의사록**\n",
        "\n",
        "http://www.bok.or.kr/portal/cmmn/file/fileDown.do?menuNo=200761&atchFileId=KO_00000000000085858&fileSn=1 - **2005년 5월 12일 의사록**\n",
        "\n",
        "두 개의 의사록을 **직접 다운받을 것**을 권함."
      ]
    },
    {
      "cell_type": "markdown",
      "metadata": {
        "id": "roCwaRVzLQAx",
        "colab_type": "text"
      },
      "source": [
        "### **1-1. 의사록 다운로드 경로 설정**\n",
        "**의사록 pdf 파일, 원제목, 업로드 일자 리스트에 저장**"
      ]
    },
    {
      "cell_type": "code",
      "metadata": {
        "id": "Rm23xjRgJvld",
        "colab_type": "code",
        "colab": {}
      },
      "source": [
        "import requests\n",
        "from bs4 import BeautifulSoup\n",
        "import re\n",
        "\n",
        "# 빈 리스트 생성\n",
        "bok = []\n",
        "bok_title = []\n",
        "\n",
        "# 31번 페이지까지의 pdf파일 경로\n",
        "for i in range(1, 32):\n",
        "    url = 'http://www.bok.or.kr/portal/bbs/B0000245/list.do?menuNo=200761&pageIndex=' + str(i)\n",
        "    response = requests.get(url)\n",
        "    response.encoding = 'utf-8' # 한글이므로 encoding을 utf-8로 지정\n",
        "    soup = BeautifulSoup(response.text, 'html.parser')\n",
        "    \n",
        "    # pdf 파일 저장\n",
        "    for j in soup.select(\"div.fileGoupBox li\"):\n",
        "        # title의 확장자가 'pdf'인 파일만 저장\n",
        "        if 'pdf' in j.select(\"a\")[0].attrs['title']:\n",
        "            bok.append(j.select(\"a\")[0].attrs['href'])\n",
        "    # pdf 파일의 원제목\n",
        "    for i in soup.select('li div.row span.titlesub'):\n",
        "        bok_title.append(i.text)\n",
        "\n",
        "# pdf 다운로드 주소\n",
        "bok_pdf = []\n",
        "for file_url in bok:\n",
        "    bok_pdf.append('http://www.bok.or.kr' + file_url)\n",
        "\n",
        "# 파일 개수 확인\n",
        "len(bok_pdf), len(bok_title)"
      ],
      "execution_count": null,
      "outputs": []
    },
    {
      "cell_type": "markdown",
      "metadata": {
        "id": "vZqUKZpHowqq",
        "colab_type": "text"
      },
      "source": [
        "### **1-2. pdf 저장 폴더 설정**\n",
        "pdf를 저장할 폴더 생성"
      ]
    },
    {
      "cell_type": "code",
      "metadata": {
        "id": "5nMmV3cwXlqJ",
        "colab_type": "code",
        "colab": {}
      },
      "source": [
        "mkdir bok_pdf"
      ],
      "execution_count": null,
      "outputs": []
    },
    {
      "cell_type": "code",
      "metadata": {
        "id": "Bu4qjituWv6q",
        "colab_type": "code",
        "colab": {}
      },
      "source": [
        "# bok_pdf 폴더에 pdf 저장\n",
        "for num, j in enumerate(bok_pdf):\n",
        "    url = j\n",
        "    r = requests.get(url, stream=True)\n",
        "    # bok_0.pdf 형식으로 저장\n",
        "    with open('/content/bok_pdf/{}.pdf'.format(bok_title[num]), 'wb') as f:\n",
        "        f.write(r.content)"
      ],
      "execution_count": null,
      "outputs": []
    },
    {
      "cell_type": "markdown",
      "metadata": {
        "id": "BHBNr_nfyrUO",
        "colab_type": "text"
      },
      "source": [
        "### **1-3. pdf를 csv로 변환**\n",
        "\n",
        "**tika 설치**\n",
        "tika가 pdfminerer에 비해 더 빠름"
      ]
    },
    {
      "cell_type": "code",
      "execution_count": null,
      "metadata": {},
      "outputs": [],
      "source": [
        "!pip install tika"
      ]
    },
    {
      "cell_type": "code",
      "metadata": {
        "id": "jkZlm6K4ALIQ",
        "colab_type": "code",
        "colab": {}
      },
      "source": [
        "from tika import parser\n",
        "import csv\n",
        "from tqdm import tqdm\n",
        "\n",
        "file = open(\"tika_bok_text.csv\", mode=\"w\", encoding=\"utf-8\")\n",
        "writer = csv.writer(file)\n",
        "texts=[]\n",
        "\n",
        "for i in tqdm(range(310)):\n",
        "    try: \n",
        "        raw = parser.from_file('/content/bok_pdf/{}.pdf'.format(bok_title[i]))\n",
        "        text = [raw['content']] \n",
        "        texts.append(text)\n",
        "    except:\n",
        "        text = ['error']\n",
        "        texts.append(text)\n",
        "        print(i)\n",
        "    writer.writerow(text)\n",
        "        \n",
        "file.close()"
      ],
      "execution_count": null,
      "outputs": []
    },
    {
      "cell_type": "markdown",
      "metadata": {
        "id": "5c1-RuIjxY_J",
        "colab_type": "text"
      },
      "source": [
        "### **1-1-4. 의사록 데이터 확인**"
      ]
    },
    {
      "cell_type": "code",
      "metadata": {
        "id": "NP4M-IiqxhOU",
        "colab_type": "code",
        "colab": {}
      },
      "source": [
        "import pandas as pd\n",
        "\n",
        "# 데이터프레임 형식으로 불러오기\n",
        "bok_text = pd.read_csv('/content/tika_bok_text.csv', header = None, sep = ',')\n",
        "bok_text = pd.DataFrame(bok_text)\n",
        "bok_text.columns=['내용']\n",
        "\n",
        "# bok_text 확인\n",
        "bok_text.head()"
      ],
      "execution_count": null,
      "outputs": []
    },
    {
      "cell_type": "code",
      "execution_count": null,
      "metadata": {},
      "outputs": [],
      "source": [
        "import re\n",
        "from datetime import datetime\n",
        "\n",
        "bok_text['제목'] = bok_title\n",
        "date_time = []\n",
        "\n",
        "for i in bok_text['제목']:\n",
        "    tmp = re.findall(\"(?<=\\)\\().+\\..+\\.[0-9]+(?=\\.?\\))\", i)\n",
        "    date_time.append(datetime.strptime(tmp[0], '%Y.%m.%d'))\n",
        "\n",
        "date_time[0]"
      ]
    },
    {
      "cell_type": "code",
      "metadata": {
        "id": "TpMPLWfxxkDm",
        "colab_type": "code",
        "colab": {}
      },
      "source": [
        "# 날짜, 제목 항목 추가\n",
        "bok_text['날짜'] = bok_date\n",
        "\n",
        "bok_text"
      ],
      "execution_count": null,
      "outputs": []
    },
    {
      "cell_type": "code",
      "metadata": {
        "id": "4p5Z-m_hxmNB",
        "colab_type": "code",
        "colab": {}
      },
      "source": [
        "bok_text.to_csv('/content/tika_bok_text.csv', encoding='utf-8-sig')"
      ],
      "execution_count": null,
      "outputs": []
    },
    {
      "cell_type": "markdown",
      "metadata": {
        "id": "Ut91I7r0LG4f",
        "colab_type": "text"
      },
      "source": [
        "## **2. 채권 리포트 다운로드**"
      ]
    },
    {
      "cell_type": "markdown",
      "metadata": {
        "id": "8EI-uI5cLuxU",
        "colab_type": "text"
      },
      "source": [
        "### **2-1. 채권 리포트 다운로드 경로 설정**\n",
        "**채권 리포트의 pdf 파일, 원제목, 업로드 일자 리스트에 저장**"
      ]
    },
    {
      "cell_type": "code",
      "metadata": {
        "id": "dwV02K_IC1Ss",
        "colab_type": "code",
        "colab": {}
      },
      "source": [
        "report_url = []\n",
        "report_title = []\n",
        "report_date = []\n",
        "\n",
        "# 다운로드 가능한 최대 범위 105페이지까지의 주소\n",
        "for page in range(1,105):\n",
        "    res = requests.get('https://finance.naver.com/research/debenture_list.nhn?keyword=&brokerCode=&searchType=writeDate&writeFromDate=2004-01-01&writeToDate=2017-12-31&x=22&y=24&page={}'.format(page))\n",
        "    bs = BeautifulSoup(res.text, 'html.parser')\n",
        "    # pdf 파일 저장 경로\n",
        "    for i in bs.select(\"td.file\"):\n",
        "        report_url.append(i.select_one(\"a\").attrs['href'])\n",
        "    \n",
        "    bs1 = bs.select_one('table[summary=\"채권분석 리포트 게시판 글목록\"]')\n",
        "    # pdf 파일의 원제목\n",
        "    for i in bs1.select(\"td[style='padding-left:10px']\"):\n",
        "        report_title.append(i.text)\n",
        "    # pdf 파일의 업로드 날짜\n",
        "    for j in bs.select(\"td[style='padding-left:5px']\"):\n",
        "        report_date.append(j.text)\n",
        "\n",
        "# 총 파일의 개수\n",
        "len(report_url), len(report_title), len(report_date)"
      ],
      "execution_count": null,
      "outputs": []
    },
    {
      "cell_type": "markdown",
      "metadata": {
        "id": "4pOeHW2gMKDe",
        "colab_type": "text"
      },
      "source": [
        "### **2-2. pdf 저장 폴더 설정**"
      ]
    },
    {
      "cell_type": "code",
      "metadata": {
        "id": "0fIi0zGQM8Aw",
        "colab_type": "code",
        "colab": {}
      },
      "source": [
        "mkdir bond_report"
      ],
      "execution_count": null,
      "outputs": []
    },
    {
      "cell_type": "code",
      "metadata": {
        "id": "61_uZhxALCPY",
        "colab_type": "code",
        "colab": {}
      },
      "source": [
        "# pdf 파일 저장\n",
        "for i, url in enumerate(report_url):\n",
        "    r = requests.get(url, stream=True)\n",
        "    with open('/content/bond_report/bond_report{}.pdf'.format(i), 'wb') as f:\n",
        "        f.write(r.content)"
      ],
      "execution_count": null,
      "outputs": []
    },
    {
      "cell_type": "markdown",
      "metadata": {
        "id": "lmzikgY6MwEV",
        "colab_type": "text"
      },
      "source": [
        "### **2-3. pdf를 text로 변환**"
      ]
    },
    {
      "cell_type": "code",
      "metadata": {
        "id": "z31uLf3WMsjE",
        "colab_type": "code",
        "colab": {}
      },
      "source": [
        "from tika import parser\n",
        "import csv\n",
        "from tqdm import tqdm\n",
        "\n",
        "file = open(\"tika_bond_text.csv\", mode=\"w\", encoding=\"utf-8\")\n",
        "writer = csv.writer(file)\n",
        "texts=[]\n",
        "\n",
        "for i in tqdm(range(3097)):\n",
        "    try: \n",
        "        raw = parser.from_file('/content/bond_report/bond_report{}.pdf''.format(i))\n",
        "        text = [raw['content']] \n",
        "        texts.append(text)\n",
        "    except:\n",
        "        text = ['error']\n",
        "        texts.append(text)\n",
        "        print(i)\n",
        "    writer.writerow(text)\n",
        "        \n",
        "file.close()"
      ],
      "execution_count": null,
      "outputs": []
    },
    {
      "cell_type": "markdown",
      "metadata": {
        "id": "xifEa1ndxubQ",
        "colab_type": "text"
      },
      "source": [
        "### **2-4. 채권 리포트 데이터**"
      ]
    },
    {
      "cell_type": "code",
      "metadata": {
        "id": "6u3H92oyRD1Z",
        "colab_type": "code",
        "colab": {}
      },
      "source": [
        "# 데이터프레임 형식으로 불러오기\n",
        "bond_text = pd.read_csv('/content/tika_bond_all.csv', header = None, sep = ',')\n",
        "bond_text = pd.DataFrame(bond_text)\n",
        "bond_text.columns=['내용']\n",
        "\n",
        "# bond_text 확인\n",
        "bond_text"
      ],
      "execution_count": null,
      "outputs": []
    },
    {
      "cell_type": "code",
      "metadata": {
        "id": "ElFDZug-ReQZ",
        "colab_type": "code",
        "colab": {}
      },
      "source": [
        "# 날짜, 제목 항목 추가\n",
        "bond_text['제목'] = bond_title\n",
        "bond_text['날짜'] = bond_date\n",
        "\n",
        "bond_text"
      ],
      "execution_count": null,
      "outputs": []
    },
    {
      "cell_type": "code",
      "metadata": {
        "id": "pkiuz56vRjAl",
        "colab_type": "code",
        "colab": {}
      },
      "source": [
        "# 채권 리포트 데이터프레임 형식으로 저장\n",
        "bond_text.to_csv('/content/tika_bond_all.csv', encoding='utf-8-sig')"
      ],
      "execution_count": null,
      "outputs": []
    },
    {
      "cell_type": "markdown",
      "metadata": {
        "id": "7FfMl4gVzmzo",
        "colab_type": "text"
      },
      "source": [
        "## **3. 금리 데이터 수집**"
      ]
    },
    {
      "cell_type": "markdown",
      "metadata": {
        "id": "XWZGEOi8zrVk",
        "colab_type": "text"
      },
      "source": [
        "### **3-1. 콜 금리 수집**"
      ]
    },
    {
      "cell_type": "code",
      "metadata": {
        "id": "bZw1T9q6zma0",
        "colab_type": "code",
        "colab": {}
      },
      "source": [
        "from bs4 import BeautifulSoup\n",
        "from datetime import datetime\n",
        "\n",
        "import requests\n",
        "\n",
        "# 빈 리스트 생성\n",
        "call_tem = []\n",
        "call_rate = []\n",
        "date = []\n",
        "\n",
        "# 2004년 11월 26일까지의 데이터 저장\n",
        "for i in range(1, 555):\n",
        "    url = 'https://finance.naver.com/marketindex/interestDailyQuote.nhn?marketindexCd=IRR_CALL&page={}'.format(i)\n",
        "\n",
        "    res = requests.get(url)\n",
        "    res.encoding = 'utf-8'\n",
        "    soup = BeautifulSoup(res.text, 'html.parser')\n",
        "\n",
        "    # 금리 저장 / 상승률 포함\n",
        "    for i in soup.select('td.num'):\n",
        "        call_tem.append(i.text)\n",
        "\n",
        "    # 날짜 저장\n",
        "    for date_num in soup.select('td.date'):\n",
        "        date_num = date_num.text\n",
        "        date_num = date_num.replace(\"\\n\", \"\")\n",
        "        date_num = date_num.replace(\"\\t\", \"\")\n",
        "        date_num = date_num.replace(\".\", \"-\")\n",
        "        date_time = datetime.strptime(date_num, '%Y-%m-%d')\n",
        "        date.append(date_time)\n",
        "\n",
        "# 금리 저장\n",
        "for rate in range(len(call_tem)):\n",
        "    if rate % 3 == 0:\n",
        "        call_rate.append(call_tem[rate])\n",
        "\n",
        "len(date), len(call_rate)"
      ],
      "execution_count": null,
      "outputs": []
    },
    {
      "cell_type": "code",
      "metadata": {
        "id": "wMdZnExXz07Q",
        "colab_type": "code",
        "colab": {}
      },
      "source": [
        "import pandas as pd\n",
        "call_all = pd.DataFrame(call_rate, index=date, columns=['콜 금리'])\n",
        "call_all"
      ],
      "execution_count": null,
      "outputs": []
    },
    {
      "cell_type": "markdown",
      "metadata": {
        "id": "QCuRRCAUz5QO",
        "colab_type": "text"
      },
      "source": [
        "### **3-2. 기준금리 수집**"
      ]
    },
    {
      "cell_type": "code",
      "metadata": {
        "id": "N2HQ9W24z3rg",
        "colab_type": "code",
        "colab": {}
      },
      "source": [
        "import requests\n",
        "from bs4 import BeautifulSoup\n",
        "\n",
        "# 빈 리스트 생성\n",
        "rate_all = []\n",
        "std_rate = []\n",
        "date_year = []\n",
        "date_month = []\n",
        "\n",
        "# 크롤링\n",
        "url = 'https://www.bok.or.kr/portal/singl/baseRate/list.do?dataSeCd=01&menuNo=200643'\n",
        "\n",
        "res = requests.get(url)\n",
        "res.encoding = 'utf-8'\n",
        "soup = BeautifulSoup(res.text, 'html.parser')\n",
        "\n",
        "# 그래프 전체 데이터 수집\n",
        "for data in soup.select('tbody td'):\n",
        "   rate_all.append(data.text)\n",
        "\n",
        "# 기준금리 저장\n",
        "for num in range(len(rate_all)):\n",
        "    if num % 3 == 2:\n",
        "        std_rate.append(rate_all[num])\n",
        "\n",
        "    if num % 3 == 0:\n",
        "        date_year.append(rate_all[num])\n",
        "\n",
        "    if num % 3 == 1:\n",
        "        date_month.append(rate_all[num])\n",
        "\n",
        "len(std_rate), len(date_year), len(date_month)"
      ],
      "execution_count": null,
      "outputs": []
    },
    {
      "cell_type": "code",
      "metadata": {
        "id": "cH-FmpRN7Zzu",
        "colab_type": "code",
        "colab": {}
      },
      "source": [
        "# 월과 일 분리\n",
        "import re\n",
        "\n",
        "month = []\n",
        "day = []\n",
        "\n",
        "for i in date_month:\n",
        "    month.append(re.findall('[0-9][0-9]', i)[0])\n",
        "    day.append(re.findall('[0-9][0-9]', i)[1])"
      ],
      "execution_count": null,
      "outputs": []
    },
    {
      "cell_type": "code",
      "metadata": {
        "id": "mc_nF-tR0SUz",
        "colab_type": "code",
        "colab": {}
      },
      "source": [
        "# 날짜 합치기\n",
        "std_date = []\n",
        "\n",
        "for i in range(len(std_rate)):\n",
        "    date_time = datetime.strptime(\"{}-{}-{}\".format(date_year[i], month[i], day[i]), '%Y-%m-%d')\n",
        "    std_date.append(date_time)\n",
        "\n",
        "std_date"
      ],
      "execution_count": null,
      "outputs": []
    },
    {
      "cell_type": "code",
      "metadata": {
        "id": "Eb0gxAGf6bj9",
        "colab_type": "code",
        "colab": {}
      },
      "source": [
        "import pandas as pd\n",
        "call_all = pd.DataFrame(call_rate, index=date, columns=['콜 금리'])\n",
        "std_all = pd.DataFrame(std_rate, index=std_date, columns=['기준 금리'])\n",
        "\n",
        "print(call_all, std_all)"
      ],
      "execution_count": null,
      "outputs": []
    },
    {
      "cell_type": "code",
      "metadata": {
        "id": "734fiFhGCQQZ",
        "colab_type": "code",
        "colab": {}
      },
      "source": [
        "interest_rate = pd.merge(call_all, std_all, how='outer', left_index=True, right_index=True)"
      ],
      "execution_count": null,
      "outputs": []
    },
    {
      "cell_type": "code",
      "metadata": {
        "id": "w3va9kPR8QTs",
        "colab_type": "code",
        "colab": {}
      },
      "source": [
        "interest_rate.to_csv('/content/interest_rate.csv', encoding='utf-8-sig')"
      ],
      "execution_count": null,
      "outputs": []
    }
  ]
}