{
  "nbformat": 4,
  "nbformat_minor": 0,
  "metadata": {
    "kernelspec": {
      "display_name": "Python 3",
      "language": "python",
      "name": "python3"
    },
    "language_info": {
      "codemirror_mode": {
        "name": "ipython",
        "version": 3
      },
      "file_extension": ".py",
      "mimetype": "text/x-python",
      "name": "python",
      "nbconvert_exporter": "python",
      "pygments_lexer": "ipython3",
      "version": "3.7.6"
    },
    "colab": {
      "name": "tokenize_ngrmize_sample_bond_mpck.ipynb",
      "provenance": [],
      "include_colab_link": true
    }
  },
  "cells": [
    {
      "cell_type": "markdown",
      "metadata": {
        "id": "view-in-github",
        "colab_type": "text"
      },
      "source": [
        "<a href=\"https://colab.research.google.com/github/Jisang-hwang93/BOK_Report_Team1/blob/yykim%2Fpr_test/tokenize_ngrmize_sample_bond_mpck.ipynb\" target=\"_parent\"><img src=\"https://colab.research.google.com/assets/colab-badge.svg\" alt=\"Open In Colab\"/></a>"
      ]
    },
    {
      "cell_type": "code",
      "metadata": {
        "id": "406e-AnKK9q1",
        "colab_type": "code",
        "colab": {},
        "outputId": "b6c82a85-838d-4f64-f278-9530f3711db9"
      },
      "source": [
        "import MeCab\n",
        "import pandas as pd\n",
        "import csv\n",
        "import numpy as np\n",
        "from ekonlpy.sentiment import MPCK\n",
        "from tqdm import tqdm\n",
        "\n",
        "mpck = MPCK()\n",
        "\n",
        "bond_report= pd.read_csv('tika_bond_all.csv', header=0, sep=',')\n",
        "bond_report = bond_report['내용']\n",
        "bond_report = list(bond_report)\n",
        "\n",
        "bond_report_content = []\n",
        "bond_repor_error = []\n",
        "for i, article in tqdm(enumerate(bond_report)):\n",
        "    tmp=[]\n",
        "    try: \n",
        "        tokens = mpck.tokenize(article)\n",
        "        ngrams = mpck.ngramize(tokens)\n",
        "        tmp.append(','.join(tokens))\n",
        "        tmp.append(','.join(ngrams))\n",
        "    except:\n",
        "        bond_repor_error.append(i)\n",
        "    bond_report_content.append(tmp)\n",
        "    \n",
        "pd.DataFrame(bond_report_content).to_csv('toknized_bond_report.csv',header=0, sep=',')"
      ],
      "execution_count": null,
      "outputs": [
        {
          "output_type": "stream",
          "text": [
            "3097it [08:33,  6.03it/s]\n"
          ],
          "name": "stderr"
        }
      ]
    },
    {
      "cell_type": "code",
      "metadata": {
        "id": "towhBhfZK9q5",
        "colab_type": "code",
        "colab": {},
        "outputId": "3d451dd0-0232-41c1-fff5-c9695eff39ed"
      },
      "source": [
        "bond_report= pd.read_csv('tika_bond_all.csv', header=0, sep=',')\n",
        "bond_report"
      ],
      "execution_count": null,
      "outputs": [
        {
          "output_type": "execute_result",
          "data": {
            "text/html": [
              "<div>\n",
              "<style scoped>\n",
              "    .dataframe tbody tr th:only-of-type {\n",
              "        vertical-align: middle;\n",
              "    }\n",
              "\n",
              "    .dataframe tbody tr th {\n",
              "        vertical-align: top;\n",
              "    }\n",
              "\n",
              "    .dataframe thead th {\n",
              "        text-align: right;\n",
              "    }\n",
              "</style>\n",
              "<table border=\"1\" class=\"dataframe\">\n",
              "  <thead>\n",
              "    <tr style=\"text-align: right;\">\n",
              "      <th></th>\n",
              "      <th>Unnamed: 0</th>\n",
              "      <th>날짜</th>\n",
              "      <th>제목</th>\n",
              "      <th>내용</th>\n",
              "    </tr>\n",
              "  </thead>\n",
              "  <tbody>\n",
              "    <tr>\n",
              "      <th>0</th>\n",
              "      <td>1</td>\n",
              "      <td>17.12.27</td>\n",
              "      <td>트럼프노믹스를 극복한 2017년 시장</td>\n",
              "      <td>\\n\\n\\n\\n\\n\\n\\n\\n\\n\\n\\n\\n\\n\\n\\n\\n\\n\\n\\n\\n\\n\\n\\n...</td>\n",
              "    </tr>\n",
              "    <tr>\n",
              "      <th>1</th>\n",
              "      <td>2</td>\n",
              "      <td>17.12.26</td>\n",
              "      <td>11월 채권시장 전망</td>\n",
              "      <td>\\n\\n\\n\\n\\n\\n\\n\\n\\n\\n\\n\\n\\n\\n\\n\\n\\n\\n\\n\\n\\n\\n\\n...</td>\n",
              "    </tr>\n",
              "    <tr>\n",
              "      <th>2</th>\n",
              "      <td>3</td>\n",
              "      <td>17.12.20</td>\n",
              "      <td>2금융권 안심전환대출 수급영향 점검</td>\n",
              "      <td>\\n\\n\\n\\n\\n\\n\\n\\n\\n\\n\\n\\n\\n\\n\\n\\n\\n\\n\\n\\n\\n\\n\\n...</td>\n",
              "    </tr>\n",
              "    <tr>\n",
              "      <th>3</th>\n",
              "      <td>4</td>\n",
              "      <td>17.12.20</td>\n",
              "      <td>확신 없는 인상의견도 있었음이 확인</td>\n",
              "      <td>\\n\\n\\n\\n\\n\\n\\n\\n\\n\\n\\n\\n\\n\\n\\n\\n\\n\\n\\n\\n\\n\\n\\n...</td>\n",
              "    </tr>\n",
              "    <tr>\n",
              "      <th>4</th>\n",
              "      <td>5</td>\n",
              "      <td>17.12.18</td>\n",
              "      <td>속도 조절 중</td>\n",
              "      <td>\\n\\n\\n\\n\\n\\n\\n\\n\\n\\n\\n\\n\\n\\n\\n\\n\\n\\n\\n\\n\\n\\n\\n...</td>\n",
              "    </tr>\n",
              "    <tr>\n",
              "      <th>...</th>\n",
              "      <td>...</td>\n",
              "      <td>...</td>\n",
              "      <td>...</td>\n",
              "      <td>...</td>\n",
              "    </tr>\n",
              "    <tr>\n",
              "      <th>3092</th>\n",
              "      <td>3093</td>\n",
              "      <td>08.04.21</td>\n",
              "      <td>항상 열려는 있는 가능성</td>\n",
              "      <td>\\n\\n\\n\\n\\n\\n\\n\\n\\n\\n\\n\\n\\n\\n\\n\\n\\n\\n\\n\\n\\n\\n\\n...</td>\n",
              "    </tr>\n",
              "    <tr>\n",
              "      <th>3093</th>\n",
              "      <td>3094</td>\n",
              "      <td>08.04.14</td>\n",
              "      <td>총재의 변신은 무죄다?!</td>\n",
              "      <td>\\n\\n\\n\\n\\n\\n\\n\\n\\n\\n\\n\\n\\n\\n\\n\\n\\n\\n\\n\\n\\n\\n\\n...</td>\n",
              "    </tr>\n",
              "    <tr>\n",
              "      <th>3094</th>\n",
              "      <td>3095</td>\n",
              "      <td>08.04.07</td>\n",
              "      <td>시간차 공격</td>\n",
              "      <td>\\n\\n\\n\\n\\n\\n\\n\\n\\n\\n\\n\\n\\n\\n\\n\\n\\n\\n\\n\\n\\n\\n\\n...</td>\n",
              "    </tr>\n",
              "    <tr>\n",
              "      <th>3095</th>\n",
              "      <td>3096</td>\n",
              "      <td>08.04.07</td>\n",
              "      <td>돌아온 박스권</td>\n",
              "      <td>\\n\\n\\n\\n\\n\\n\\n\\n\\n\\n\\n\\n\\n\\n\\n\\n\\n\\n\\n\\n\\n\\n\\n...</td>\n",
              "    </tr>\n",
              "    <tr>\n",
              "      <th>3096</th>\n",
              "      <td>3097</td>\n",
              "      <td>08.04.01</td>\n",
              "      <td>대우증권 월간 채권투자 (4월)</td>\n",
              "      <td>NaN</td>\n",
              "    </tr>\n",
              "  </tbody>\n",
              "</table>\n",
              "<p>3097 rows × 4 columns</p>\n",
              "</div>"
            ],
            "text/plain": [
              "      Unnamed: 0        날짜                     제목  \\\n",
              "0              1  17.12.27  트럼프노믹스를 극복한 2017년 시장    \n",
              "1              2  17.12.26            11월 채권시장 전망   \n",
              "2              3  17.12.20   2금융권 안심전환대출 수급영향 점검    \n",
              "3              4  17.12.20    확신 없는 인상의견도 있었음이 확인   \n",
              "4              5  17.12.18                속도 조절 중   \n",
              "...          ...       ...                    ...   \n",
              "3092        3093  08.04.21          항상 열려는 있는 가능성   \n",
              "3093        3094  08.04.14          총재의 변신은 무죄다?!   \n",
              "3094        3095  08.04.07                 시간차 공격   \n",
              "3095        3096  08.04.07                돌아온 박스권   \n",
              "3096        3097  08.04.01      대우증권 월간 채권투자 (4월)   \n",
              "\n",
              "                                                     내용  \n",
              "0     \\n\\n\\n\\n\\n\\n\\n\\n\\n\\n\\n\\n\\n\\n\\n\\n\\n\\n\\n\\n\\n\\n\\n...  \n",
              "1     \\n\\n\\n\\n\\n\\n\\n\\n\\n\\n\\n\\n\\n\\n\\n\\n\\n\\n\\n\\n\\n\\n\\n...  \n",
              "2     \\n\\n\\n\\n\\n\\n\\n\\n\\n\\n\\n\\n\\n\\n\\n\\n\\n\\n\\n\\n\\n\\n\\n...  \n",
              "3     \\n\\n\\n\\n\\n\\n\\n\\n\\n\\n\\n\\n\\n\\n\\n\\n\\n\\n\\n\\n\\n\\n\\n...  \n",
              "4     \\n\\n\\n\\n\\n\\n\\n\\n\\n\\n\\n\\n\\n\\n\\n\\n\\n\\n\\n\\n\\n\\n\\n...  \n",
              "...                                                 ...  \n",
              "3092  \\n\\n\\n\\n\\n\\n\\n\\n\\n\\n\\n\\n\\n\\n\\n\\n\\n\\n\\n\\n\\n\\n\\n...  \n",
              "3093  \\n\\n\\n\\n\\n\\n\\n\\n\\n\\n\\n\\n\\n\\n\\n\\n\\n\\n\\n\\n\\n\\n\\n...  \n",
              "3094  \\n\\n\\n\\n\\n\\n\\n\\n\\n\\n\\n\\n\\n\\n\\n\\n\\n\\n\\n\\n\\n\\n\\n...  \n",
              "3095  \\n\\n\\n\\n\\n\\n\\n\\n\\n\\n\\n\\n\\n\\n\\n\\n\\n\\n\\n\\n\\n\\n\\n...  \n",
              "3096                                                NaN  \n",
              "\n",
              "[3097 rows x 4 columns]"
            ]
          },
          "metadata": {
            "tags": []
          },
          "execution_count": 9
        }
      ]
    },
    {
      "cell_type": "code",
      "metadata": {
        "id": "RncrD3rRMGfh",
        "colab_type": "code",
        "colab": {}
      },
      "source": [
        "import pandas as pd\n",
        "import csv"
      ],
      "execution_count": 5,
      "outputs": []
    },
    {
      "cell_type": "code",
      "metadata": {
        "id": "sFnt7-uTK9q7",
        "colab_type": "code",
        "colab": {
          "base_uri": "https://localhost:8080/",
          "height": 450
        },
        "outputId": "26732314-6d3d-4c1f-eff6-5f778d3b7fd3"
      },
      "source": [
        "tokenized_bond = pd.read_csv('toknized_bond_report.csv', sep = ',', index_col = 0)\n",
        "tokenized_bond.columns = ['tokens','ngrams']\n",
        "tokenized_bond"
      ],
      "execution_count": 14,
      "outputs": [
        {
          "output_type": "execute_result",
          "data": {
            "text/html": [
              "<div>\n",
              "<style scoped>\n",
              "    .dataframe tbody tr th:only-of-type {\n",
              "        vertical-align: middle;\n",
              "    }\n",
              "\n",
              "    .dataframe tbody tr th {\n",
              "        vertical-align: top;\n",
              "    }\n",
              "\n",
              "    .dataframe thead th {\n",
              "        text-align: right;\n",
              "    }\n",
              "</style>\n",
              "<table border=\"1\" class=\"dataframe\">\n",
              "  <thead>\n",
              "    <tr style=\"text-align: right;\">\n",
              "      <th></th>\n",
              "      <th>tokens</th>\n",
              "      <th>ngrams</th>\n",
              "    </tr>\n",
              "    <tr>\n",
              "      <th>0</th>\n",
              "      <th></th>\n",
              "      <th></th>\n",
              "    </tr>\n",
              "  </thead>\n",
              "  <tbody>\n",
              "    <tr>\n",
              "      <th>1</th>\n",
              "      <td>금융/NNG,수급/NNG,영향/NNG,점검/NNG,채권/NNG,보/VV,조사/NNG...</td>\n",
              "      <td>국고채/NNG;금리/NNG;급등/NNG,원금/NNG;상환/NNG;부담/NNG,금리/...</td>\n",
              "    </tr>\n",
              "    <tr>\n",
              "      <th>2</th>\n",
              "      <td>의사록/NNG,확신/NNG,없/VA,인상/NNG,의견/NNG,있/VA,확인/NNG,...</td>\n",
              "      <td>금리/NNG;인상/NNG;반대/NNG,희박/NNG;금리/NNG;인상/NNG,아직/M...</td>\n",
              "    </tr>\n",
              "    <tr>\n",
              "      <th>3</th>\n",
              "      <td>속도조절/NNG,중/NNG,발행시장/NNG,공모/NNG,회사채/NNG,발행/NNG,...</td>\n",
              "      <td>크레딧/NNG;시장/NNG;스프레드/NNG;축소/NNG,전망/NNG;상향/NNG;전...</td>\n",
              "    </tr>\n",
              "    <tr>\n",
              "      <th>4</th>\n",
              "      <td>fed/NNG,성장/NNG,물가/NNG,fed/NNG,ff/NNG,목표/NNG,금리...</td>\n",
              "      <td>fed/NNG;ff/NNG;목표/NNG;금리/NNG;인상/NNG,금리/NNG;인상/...</td>\n",
              "    </tr>\n",
              "    <tr>\n",
              "      <th>5</th>\n",
              "      <td>fed/NNG,fed/NNG,함의/NNG,fed/NNG,구성/NNG,변화/NNG,채...</td>\n",
              "      <td>fed/NNG;시장/NNG;예상/NNG;금리/NNG;인상/NNG,실업률/NNG;하락...</td>\n",
              "    </tr>\n",
              "    <tr>\n",
              "      <th>...</th>\n",
              "      <td>...</td>\n",
              "      <td>...</td>\n",
              "    </tr>\n",
              "    <tr>\n",
              "      <th>3092</th>\n",
              "      <td>믹스/NNG,합의/NNG,반영/NNG,예상/NNG,경제/NNG,성장률/NNG,하향/...</td>\n",
              "      <td>예상/NNG;경제/NNG;성장률/NNG;하향/NNG,금리/NNG;인하/NNG;기대/...</td>\n",
              "    </tr>\n",
              "    <tr>\n",
              "      <th>3093</th>\n",
              "      <td>돌아온/VV,박스권/NNG,하단/NNG,상단/NNG,테스트/NNG,가능성/NNG,무...</td>\n",
              "      <td>글로벌/NNG;신용경색/NNG;완화/NNG,단기/NNG;인플레이션/NNG;우려/NN...</td>\n",
              "    </tr>\n",
              "    <tr>\n",
              "      <th>3094</th>\n",
              "      <td>돌아온/VV,박스권/NNG,하단/NNG,상단/NNG,테스트/NNG,가능성/NNG,무...</td>\n",
              "      <td>글로벌/NNG;신용경색/NNG;완화/NNG,단기/NNG;인플레이션/NNG;우려/NN...</td>\n",
              "    </tr>\n",
              "    <tr>\n",
              "      <th>3095</th>\n",
              "      <td>가/VV,채권투자/NNG,채권시장/NNG,전망/NNG,금융시장/NNG,차/NNG,트...</td>\n",
              "      <td>미/NNG;국채/NNG;금리/NNG;안전자산/NNG;선호/NNG,경기/NNG;개선/...</td>\n",
              "    </tr>\n",
              "    <tr>\n",
              "      <th>3096</th>\n",
              "      <td>NaN</td>\n",
              "      <td>NaN</td>\n",
              "    </tr>\n",
              "  </tbody>\n",
              "</table>\n",
              "<p>3096 rows × 2 columns</p>\n",
              "</div>"
            ],
            "text/plain": [
              "                                                 tokens                                             ngrams\n",
              "0                                                                                                         \n",
              "1     금융/NNG,수급/NNG,영향/NNG,점검/NNG,채권/NNG,보/VV,조사/NNG...  국고채/NNG;금리/NNG;급등/NNG,원금/NNG;상환/NNG;부담/NNG,금리/...\n",
              "2     의사록/NNG,확신/NNG,없/VA,인상/NNG,의견/NNG,있/VA,확인/NNG,...  금리/NNG;인상/NNG;반대/NNG,희박/NNG;금리/NNG;인상/NNG,아직/M...\n",
              "3     속도조절/NNG,중/NNG,발행시장/NNG,공모/NNG,회사채/NNG,발행/NNG,...  크레딧/NNG;시장/NNG;스프레드/NNG;축소/NNG,전망/NNG;상향/NNG;전...\n",
              "4     fed/NNG,성장/NNG,물가/NNG,fed/NNG,ff/NNG,목표/NNG,금리...  fed/NNG;ff/NNG;목표/NNG;금리/NNG;인상/NNG,금리/NNG;인상/...\n",
              "5     fed/NNG,fed/NNG,함의/NNG,fed/NNG,구성/NNG,변화/NNG,채...  fed/NNG;시장/NNG;예상/NNG;금리/NNG;인상/NNG,실업률/NNG;하락...\n",
              "...                                                 ...                                                ...\n",
              "3092  믹스/NNG,합의/NNG,반영/NNG,예상/NNG,경제/NNG,성장률/NNG,하향/...  예상/NNG;경제/NNG;성장률/NNG;하향/NNG,금리/NNG;인하/NNG;기대/...\n",
              "3093  돌아온/VV,박스권/NNG,하단/NNG,상단/NNG,테스트/NNG,가능성/NNG,무...  글로벌/NNG;신용경색/NNG;완화/NNG,단기/NNG;인플레이션/NNG;우려/NN...\n",
              "3094  돌아온/VV,박스권/NNG,하단/NNG,상단/NNG,테스트/NNG,가능성/NNG,무...  글로벌/NNG;신용경색/NNG;완화/NNG,단기/NNG;인플레이션/NNG;우려/NN...\n",
              "3095  가/VV,채권투자/NNG,채권시장/NNG,전망/NNG,금융시장/NNG,차/NNG,트...  미/NNG;국채/NNG;금리/NNG;안전자산/NNG;선호/NNG,경기/NNG;개선/...\n",
              "3096                                                NaN                                                NaN\n",
              "\n",
              "[3096 rows x 2 columns]"
            ]
          },
          "metadata": {
            "tags": []
          },
          "execution_count": 14
        }
      ]
    },
    {
      "cell_type": "code",
      "metadata": {
        "id": "OQ0kQYBcK9rA",
        "colab_type": "code",
        "colab": {}
      },
      "source": [
        ""
      ],
      "execution_count": null,
      "outputs": []
    }
  ]
}