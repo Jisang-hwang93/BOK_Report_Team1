{
 "cells": [
  {
   "cell_type": "code",
   "execution_count": 6,
   "metadata": {},
   "outputs": [],
   "source": [
    "import pandas as pd\n",
    "import csv\n",
    "import numpy as np"
   ]
  },
  {
   "cell_type": "code",
   "execution_count": 2,
   "metadata": {},
   "outputs": [
    {
     "output_type": "execute_result",
     "data": {
      "text/plain": "                                           token_ngram  label\n0    들/VV,국제/NNG,유가/NNG,크/VA,오르/VV,원화/NNG,엔/NNG,화간/...     -1\n1    위안/NNG,절상/NNG,원화/NNG,절상/NNG,가장/MAG,크/VA,추가/NNG...     -1\n2    금융/NNG,불안사태/NNG,발생/NNG,하/VV,가운데/NNG,국제/NNG,환투기...     -1\n3    금리갭/NNG,확대/NNG,되/XSV,가운데/NNG,남/VV,fed/NNG,금리/N...      1\n5    들/VV,달러/NNG,엔/NNG,유로/NNG,대해/VV,상당히/MAG,강세/NNG,...      1\n..                                                 ...    ...\n141  국제/NNG,금융시장/NNG,안정/NNG,되/VV,지속/NNG,하/XSV,가운데/N...      1\n142  성장/NNG,고용/NNG,회복국면/NNG,정점/NNG,향하/VV,불구/NNG,물가/...      1\n143  금리정상화/NNG,행보/NNG,불구/NNG,미/NNG,달러/NNG,약세/NNG,기조...      1\n144  임금/NNG,상승/NNG,확대/NNG,되/XSV,세제/NNG,개혁/NNG,기대/NN...     -1\n145  금융경제/NNG,보/VV,fed/NNG,금리/NNG,인상/NNG,하/VV,예견/NN...      1\n\n[114 rows x 2 columns]",
      "text/html": "<div>\n<style scoped>\n    .dataframe tbody tr th:only-of-type {\n        vertical-align: middle;\n    }\n\n    .dataframe tbody tr th {\n        vertical-align: top;\n    }\n\n    .dataframe thead th {\n        text-align: right;\n    }\n</style>\n<table border=\"1\" class=\"dataframe\">\n  <thead>\n    <tr style=\"text-align: right;\">\n      <th></th>\n      <th>token_ngram</th>\n      <th>label</th>\n    </tr>\n  </thead>\n  <tbody>\n    <tr>\n      <th>0</th>\n      <td>들/VV,국제/NNG,유가/NNG,크/VA,오르/VV,원화/NNG,엔/NNG,화간/...</td>\n      <td>-1</td>\n    </tr>\n    <tr>\n      <th>1</th>\n      <td>위안/NNG,절상/NNG,원화/NNG,절상/NNG,가장/MAG,크/VA,추가/NNG...</td>\n      <td>-1</td>\n    </tr>\n    <tr>\n      <th>2</th>\n      <td>금융/NNG,불안사태/NNG,발생/NNG,하/VV,가운데/NNG,국제/NNG,환투기...</td>\n      <td>-1</td>\n    </tr>\n    <tr>\n      <th>3</th>\n      <td>금리갭/NNG,확대/NNG,되/XSV,가운데/NNG,남/VV,fed/NNG,금리/N...</td>\n      <td>1</td>\n    </tr>\n    <tr>\n      <th>5</th>\n      <td>들/VV,달러/NNG,엔/NNG,유로/NNG,대해/VV,상당히/MAG,강세/NNG,...</td>\n      <td>1</td>\n    </tr>\n    <tr>\n      <th>...</th>\n      <td>...</td>\n      <td>...</td>\n    </tr>\n    <tr>\n      <th>141</th>\n      <td>국제/NNG,금융시장/NNG,안정/NNG,되/VV,지속/NNG,하/XSV,가운데/N...</td>\n      <td>1</td>\n    </tr>\n    <tr>\n      <th>142</th>\n      <td>성장/NNG,고용/NNG,회복국면/NNG,정점/NNG,향하/VV,불구/NNG,물가/...</td>\n      <td>1</td>\n    </tr>\n    <tr>\n      <th>143</th>\n      <td>금리정상화/NNG,행보/NNG,불구/NNG,미/NNG,달러/NNG,약세/NNG,기조...</td>\n      <td>1</td>\n    </tr>\n    <tr>\n      <th>144</th>\n      <td>임금/NNG,상승/NNG,확대/NNG,되/XSV,세제/NNG,개혁/NNG,기대/NN...</td>\n      <td>-1</td>\n    </tr>\n    <tr>\n      <th>145</th>\n      <td>금융경제/NNG,보/VV,fed/NNG,금리/NNG,인상/NNG,하/VV,예견/NN...</td>\n      <td>1</td>\n    </tr>\n  </tbody>\n</table>\n<p>114 rows × 2 columns</p>\n</div>"
     },
     "metadata": {},
     "execution_count": 2
    }
   ],
   "source": [
    "minutes = pd.read_csv('minutes_w_rate.csv',encoding='utf-8',index_col=[0])\n",
    "minutes.columns = ['token_ngram', 'label']\n",
    "minutes"
   ]
  },
  {
   "cell_type": "code",
   "execution_count": 3,
   "metadata": {},
   "outputs": [
    {
     "output_type": "execute_result",
     "data": {
      "text/plain": "                                              token_ngram  label\n0       만기/NNG,국채/NNG,수익률/NNG,fed/NNG,fed/NNG,금리/NNG,인...      1\n1       만기/NNG,국채/NNG,가격/NNG,최악/NNG,보내/VV,만기/NNG,국채/NN...      1\n2       마지막/NNG,거래일/NNG,뉴욕/NNG,환시/NNG,달러/NNG,개장/NNG,엔/...      1\n3       마지막/NNG,날/NNG,뉴욕/NNG,금융시장/NNG,한산/NNG,거래/NNG,속/...      1\n4       주도/NNG,연속/NNG,대비/NNG,상승/NNG,하/XSV,대표지수/NNG,최고/...      1\n...                                                   ...    ...\n253022  절상/NNG,중/NNG,실질가치/NNG,오르/VV,중/NNG,기자/NNG,보호무역주...      1\n253023  자료/NNG,일자/NNG,최고/NNG,금리/NNG,박의/NNG,기자/NNG,시장/N...      1\n253024  뉴욕/NNG,은실/NNG,특파원/NNG,거래/NNG,주/NNG,다시/MAG,경제/N...      1\n253025  판매/NNG,정기/NNG,예금/NNG,중/NNG,금리/NNG,정기/NNG,예금/NN...      1\n253026  미/NNG,잠재성/NNG,장률/NNG,웃돌/VV,유로/NNG,내외/NNG,미/NNG...      1\n\n[204893 rows x 2 columns]",
      "text/html": "<div>\n<style scoped>\n    .dataframe tbody tr th:only-of-type {\n        vertical-align: middle;\n    }\n\n    .dataframe tbody tr th {\n        vertical-align: top;\n    }\n\n    .dataframe thead th {\n        text-align: right;\n    }\n</style>\n<table border=\"1\" class=\"dataframe\">\n  <thead>\n    <tr style=\"text-align: right;\">\n      <th></th>\n      <th>token_ngram</th>\n      <th>label</th>\n    </tr>\n  </thead>\n  <tbody>\n    <tr>\n      <th>0</th>\n      <td>만기/NNG,국채/NNG,수익률/NNG,fed/NNG,fed/NNG,금리/NNG,인...</td>\n      <td>1</td>\n    </tr>\n    <tr>\n      <th>1</th>\n      <td>만기/NNG,국채/NNG,가격/NNG,최악/NNG,보내/VV,만기/NNG,국채/NN...</td>\n      <td>1</td>\n    </tr>\n    <tr>\n      <th>2</th>\n      <td>마지막/NNG,거래일/NNG,뉴욕/NNG,환시/NNG,달러/NNG,개장/NNG,엔/...</td>\n      <td>1</td>\n    </tr>\n    <tr>\n      <th>3</th>\n      <td>마지막/NNG,날/NNG,뉴욕/NNG,금융시장/NNG,한산/NNG,거래/NNG,속/...</td>\n      <td>1</td>\n    </tr>\n    <tr>\n      <th>4</th>\n      <td>주도/NNG,연속/NNG,대비/NNG,상승/NNG,하/XSV,대표지수/NNG,최고/...</td>\n      <td>1</td>\n    </tr>\n    <tr>\n      <th>...</th>\n      <td>...</td>\n      <td>...</td>\n    </tr>\n    <tr>\n      <th>253022</th>\n      <td>절상/NNG,중/NNG,실질가치/NNG,오르/VV,중/NNG,기자/NNG,보호무역주...</td>\n      <td>1</td>\n    </tr>\n    <tr>\n      <th>253023</th>\n      <td>자료/NNG,일자/NNG,최고/NNG,금리/NNG,박의/NNG,기자/NNG,시장/N...</td>\n      <td>1</td>\n    </tr>\n    <tr>\n      <th>253024</th>\n      <td>뉴욕/NNG,은실/NNG,특파원/NNG,거래/NNG,주/NNG,다시/MAG,경제/N...</td>\n      <td>1</td>\n    </tr>\n    <tr>\n      <th>253025</th>\n      <td>판매/NNG,정기/NNG,예금/NNG,중/NNG,금리/NNG,정기/NNG,예금/NN...</td>\n      <td>1</td>\n    </tr>\n    <tr>\n      <th>253026</th>\n      <td>미/NNG,잠재성/NNG,장률/NNG,웃돌/VV,유로/NNG,내외/NNG,미/NNG...</td>\n      <td>1</td>\n    </tr>\n  </tbody>\n</table>\n<p>204893 rows × 2 columns</p>\n</div>"
     },
     "metadata": {},
     "execution_count": 3
    }
   ],
   "source": [
    "news = pd.read_csv('news_w_rate.csv', encoding='utf-8', index_col=[0])\n",
    "news"
   ]
  },
  {
   "cell_type": "code",
   "execution_count": 4,
   "metadata": {
    "scrolled": true
   },
   "outputs": [
    {
     "output_type": "execute_result",
     "data": {
      "text/plain": "                                            token_ngram  label\n0     프레젠테이션/NNG,채권/NNG,채권시장/NNG,전망/NNG,동향/NNG,금리/NN...      1\n1     금융/NNG,수급/NNG,영향/NNG,점검/NNG,채권/NNG,보/VV,조사/NNG...      1\n2     의사록/NNG,확신/NNG,없/VA,인상/NNG,의견/NNG,있/VA,확인/NNG,...      1\n3     속도조절/NNG,중/NNG,발행시장/NNG,공모/NNG,회사채/NNG,발행/NNG,...      1\n4     fed/NNG,성장/NNG,물가/NNG,fed/NNG,ff/NNG,목표/NNG,금리...      1\n...                                                 ...    ...\n3091  경기/NNG,전망/NNG,비교적/VAX,분명/MAG,인플레이션/NNG,명분/NNG,...     -1\n3093  돌아온/VV,박스권/NNG,하단/NNG,상단/NNG,테스트/NNG,가능성/NNG,무...      1\n3094  돌아온/VV,박스권/NNG,하단/NNG,상단/NNG,테스트/NNG,가능성/NNG,무...      1\n3095  가/VV,채권투자/NNG,채권시장/NNG,전망/NNG,금융시장/NNG,차/NNG,트...      1\n3096                                                NaN      1\n\n[2368 rows x 2 columns]",
      "text/html": "<div>\n<style scoped>\n    .dataframe tbody tr th:only-of-type {\n        vertical-align: middle;\n    }\n\n    .dataframe tbody tr th {\n        vertical-align: top;\n    }\n\n    .dataframe thead th {\n        text-align: right;\n    }\n</style>\n<table border=\"1\" class=\"dataframe\">\n  <thead>\n    <tr style=\"text-align: right;\">\n      <th></th>\n      <th>token_ngram</th>\n      <th>label</th>\n    </tr>\n  </thead>\n  <tbody>\n    <tr>\n      <th>0</th>\n      <td>프레젠테이션/NNG,채권/NNG,채권시장/NNG,전망/NNG,동향/NNG,금리/NN...</td>\n      <td>1</td>\n    </tr>\n    <tr>\n      <th>1</th>\n      <td>금융/NNG,수급/NNG,영향/NNG,점검/NNG,채권/NNG,보/VV,조사/NNG...</td>\n      <td>1</td>\n    </tr>\n    <tr>\n      <th>2</th>\n      <td>의사록/NNG,확신/NNG,없/VA,인상/NNG,의견/NNG,있/VA,확인/NNG,...</td>\n      <td>1</td>\n    </tr>\n    <tr>\n      <th>3</th>\n      <td>속도조절/NNG,중/NNG,발행시장/NNG,공모/NNG,회사채/NNG,발행/NNG,...</td>\n      <td>1</td>\n    </tr>\n    <tr>\n      <th>4</th>\n      <td>fed/NNG,성장/NNG,물가/NNG,fed/NNG,ff/NNG,목표/NNG,금리...</td>\n      <td>1</td>\n    </tr>\n    <tr>\n      <th>...</th>\n      <td>...</td>\n      <td>...</td>\n    </tr>\n    <tr>\n      <th>3091</th>\n      <td>경기/NNG,전망/NNG,비교적/VAX,분명/MAG,인플레이션/NNG,명분/NNG,...</td>\n      <td>-1</td>\n    </tr>\n    <tr>\n      <th>3093</th>\n      <td>돌아온/VV,박스권/NNG,하단/NNG,상단/NNG,테스트/NNG,가능성/NNG,무...</td>\n      <td>1</td>\n    </tr>\n    <tr>\n      <th>3094</th>\n      <td>돌아온/VV,박스권/NNG,하단/NNG,상단/NNG,테스트/NNG,가능성/NNG,무...</td>\n      <td>1</td>\n    </tr>\n    <tr>\n      <th>3095</th>\n      <td>가/VV,채권투자/NNG,채권시장/NNG,전망/NNG,금융시장/NNG,차/NNG,트...</td>\n      <td>1</td>\n    </tr>\n    <tr>\n      <th>3096</th>\n      <td>NaN</td>\n      <td>1</td>\n    </tr>\n  </tbody>\n</table>\n<p>2368 rows × 2 columns</p>\n</div>"
     },
     "metadata": {},
     "execution_count": 4
    }
   ],
   "source": [
    "report = pd.read_csv('bond_w_rate.csv', encoding = 'utf-8', index_col=[0])\n",
    "report"
   ]
  },
  {
   "cell_type": "code",
   "execution_count": 5,
   "metadata": {},
   "outputs": [
    {
     "output_type": "execute_result",
     "data": {
      "text/plain": "                                              token_ngram  label\n0       들/VV,국제/NNG,유가/NNG,크/VA,오르/VV,원화/NNG,엔/NNG,화간/...     -1\n1       위안/NNG,절상/NNG,원화/NNG,절상/NNG,가장/MAG,크/VA,추가/NNG...     -1\n2       금융/NNG,불안사태/NNG,발생/NNG,하/VV,가운데/NNG,국제/NNG,환투기...     -1\n3       금리갭/NNG,확대/NNG,되/XSV,가운데/NNG,남/VV,fed/NNG,금리/N...      1\n4       들/VV,달러/NNG,엔/NNG,유로/NNG,대해/VV,상당히/MAG,강세/NNG,...      1\n...                                                   ...    ...\n207370  경기/NNG,전망/NNG,비교적/VAX,분명/MAG,인플레이션/NNG,명분/NNG,...     -1\n207371  돌아온/VV,박스권/NNG,하단/NNG,상단/NNG,테스트/NNG,가능성/NNG,무...      1\n207372  돌아온/VV,박스권/NNG,하단/NNG,상단/NNG,테스트/NNG,가능성/NNG,무...      1\n207373  가/VV,채권투자/NNG,채권시장/NNG,전망/NNG,금융시장/NNG,차/NNG,트...      1\n207374                                                NaN      1\n\n[207375 rows x 2 columns]",
      "text/html": "<div>\n<style scoped>\n    .dataframe tbody tr th:only-of-type {\n        vertical-align: middle;\n    }\n\n    .dataframe tbody tr th {\n        vertical-align: top;\n    }\n\n    .dataframe thead th {\n        text-align: right;\n    }\n</style>\n<table border=\"1\" class=\"dataframe\">\n  <thead>\n    <tr style=\"text-align: right;\">\n      <th></th>\n      <th>token_ngram</th>\n      <th>label</th>\n    </tr>\n  </thead>\n  <tbody>\n    <tr>\n      <th>0</th>\n      <td>들/VV,국제/NNG,유가/NNG,크/VA,오르/VV,원화/NNG,엔/NNG,화간/...</td>\n      <td>-1</td>\n    </tr>\n    <tr>\n      <th>1</th>\n      <td>위안/NNG,절상/NNG,원화/NNG,절상/NNG,가장/MAG,크/VA,추가/NNG...</td>\n      <td>-1</td>\n    </tr>\n    <tr>\n      <th>2</th>\n      <td>금융/NNG,불안사태/NNG,발생/NNG,하/VV,가운데/NNG,국제/NNG,환투기...</td>\n      <td>-1</td>\n    </tr>\n    <tr>\n      <th>3</th>\n      <td>금리갭/NNG,확대/NNG,되/XSV,가운데/NNG,남/VV,fed/NNG,금리/N...</td>\n      <td>1</td>\n    </tr>\n    <tr>\n      <th>4</th>\n      <td>들/VV,달러/NNG,엔/NNG,유로/NNG,대해/VV,상당히/MAG,강세/NNG,...</td>\n      <td>1</td>\n    </tr>\n    <tr>\n      <th>...</th>\n      <td>...</td>\n      <td>...</td>\n    </tr>\n    <tr>\n      <th>207370</th>\n      <td>경기/NNG,전망/NNG,비교적/VAX,분명/MAG,인플레이션/NNG,명분/NNG,...</td>\n      <td>-1</td>\n    </tr>\n    <tr>\n      <th>207371</th>\n      <td>돌아온/VV,박스권/NNG,하단/NNG,상단/NNG,테스트/NNG,가능성/NNG,무...</td>\n      <td>1</td>\n    </tr>\n    <tr>\n      <th>207372</th>\n      <td>돌아온/VV,박스권/NNG,하단/NNG,상단/NNG,테스트/NNG,가능성/NNG,무...</td>\n      <td>1</td>\n    </tr>\n    <tr>\n      <th>207373</th>\n      <td>가/VV,채권투자/NNG,채권시장/NNG,전망/NNG,금융시장/NNG,차/NNG,트...</td>\n      <td>1</td>\n    </tr>\n    <tr>\n      <th>207374</th>\n      <td>NaN</td>\n      <td>1</td>\n    </tr>\n  </tbody>\n</table>\n<p>207375 rows × 2 columns</p>\n</div>"
     },
     "metadata": {},
     "execution_count": 5
    }
   ],
   "source": [
    "corpus = pd.concat([minutes, news, report], ignore_index=True)\n",
    "corpus"
   ]
  },
  {
   "cell_type": "code",
   "execution_count": 7,
   "metadata": {},
   "outputs": [
    {
     "output_type": "execute_result",
     "data": {
      "text/plain": "                                                          1      2\n0                                                                 \nNaN                                             token_ngram  label\n0.0       들/VV,국제/NNG,유가/NNG,크/VA,오르/VV,원화/NNG,엔/NNG,화간/...     -1\n1.0       위안/NNG,절상/NNG,원화/NNG,절상/NNG,가장/MAG,크/VA,추가/NNG...     -1\n2.0       금융/NNG,불안사태/NNG,발생/NNG,하/VV,가운데/NNG,국제/NNG,환투기...     -1\n3.0       금리갭/NNG,확대/NNG,되/XSV,가운데/NNG,남/VV,fed/NNG,금리/N...      1\n...                                                     ...    ...\n207370.0  경기/NNG,전망/NNG,비교적/VAX,분명/MAG,인플레이션/NNG,명분/NNG,...     -1\n207371.0  돌아온/VV,박스권/NNG,하단/NNG,상단/NNG,테스트/NNG,가능성/NNG,무...      1\n207372.0  돌아온/VV,박스권/NNG,하단/NNG,상단/NNG,테스트/NNG,가능성/NNG,무...      1\n207373.0  가/VV,채권투자/NNG,채권시장/NNG,전망/NNG,금융시장/NNG,차/NNG,트...      1\n207374.0                                                NaN      1\n\n[207376 rows x 2 columns]",
      "text/html": "<div>\n<style scoped>\n    .dataframe tbody tr th:only-of-type {\n        vertical-align: middle;\n    }\n\n    .dataframe tbody tr th {\n        vertical-align: top;\n    }\n\n    .dataframe thead th {\n        text-align: right;\n    }\n</style>\n<table border=\"1\" class=\"dataframe\">\n  <thead>\n    <tr style=\"text-align: right;\">\n      <th></th>\n      <th>1</th>\n      <th>2</th>\n    </tr>\n    <tr>\n      <th>0</th>\n      <th></th>\n      <th></th>\n    </tr>\n  </thead>\n  <tbody>\n    <tr>\n      <th>NaN</th>\n      <td>token_ngram</td>\n      <td>label</td>\n    </tr>\n    <tr>\n      <th>0.0</th>\n      <td>들/VV,국제/NNG,유가/NNG,크/VA,오르/VV,원화/NNG,엔/NNG,화간/...</td>\n      <td>-1</td>\n    </tr>\n    <tr>\n      <th>1.0</th>\n      <td>위안/NNG,절상/NNG,원화/NNG,절상/NNG,가장/MAG,크/VA,추가/NNG...</td>\n      <td>-1</td>\n    </tr>\n    <tr>\n      <th>2.0</th>\n      <td>금융/NNG,불안사태/NNG,발생/NNG,하/VV,가운데/NNG,국제/NNG,환투기...</td>\n      <td>-1</td>\n    </tr>\n    <tr>\n      <th>3.0</th>\n      <td>금리갭/NNG,확대/NNG,되/XSV,가운데/NNG,남/VV,fed/NNG,금리/N...</td>\n      <td>1</td>\n    </tr>\n    <tr>\n      <th>...</th>\n      <td>...</td>\n      <td>...</td>\n    </tr>\n    <tr>\n      <th>207370.0</th>\n      <td>경기/NNG,전망/NNG,비교적/VAX,분명/MAG,인플레이션/NNG,명분/NNG,...</td>\n      <td>-1</td>\n    </tr>\n    <tr>\n      <th>207371.0</th>\n      <td>돌아온/VV,박스권/NNG,하단/NNG,상단/NNG,테스트/NNG,가능성/NNG,무...</td>\n      <td>1</td>\n    </tr>\n    <tr>\n      <th>207372.0</th>\n      <td>돌아온/VV,박스권/NNG,하단/NNG,상단/NNG,테스트/NNG,가능성/NNG,무...</td>\n      <td>1</td>\n    </tr>\n    <tr>\n      <th>207373.0</th>\n      <td>가/VV,채권투자/NNG,채권시장/NNG,전망/NNG,금융시장/NNG,차/NNG,트...</td>\n      <td>1</td>\n    </tr>\n    <tr>\n      <th>207374.0</th>\n      <td>NaN</td>\n      <td>1</td>\n    </tr>\n  </tbody>\n</table>\n<p>207376 rows × 2 columns</p>\n</div>"
     },
     "metadata": {},
     "execution_count": 7
    }
   ],
   "source": [
    "corpus.to_csv('labeled_corpus.csv', encoding='utf-8')\n"
   ]
  },
  {
   "cell_type": "code",
   "execution_count": 8,
   "metadata": {},
   "outputs": [
    {
     "output_type": "error",
     "ename": "MemoryError",
     "evalue": "",
     "traceback": [
      "\u001b[1;31m---------------------------------------------------------------------------\u001b[0m",
      "\u001b[1;31mMemoryError\u001b[0m                               Traceback (most recent call last)",
      "\u001b[1;32m<ipython-input-8-703444373645>\u001b[0m in \u001b[0;36m<module>\u001b[1;34m\u001b[0m\n\u001b[1;32m----> 1\u001b[1;33m \u001b[0mpd\u001b[0m\u001b[1;33m.\u001b[0m\u001b[0mread_csv\u001b[0m\u001b[1;33m(\u001b[0m\u001b[1;34m'labeled_corpus.csv'\u001b[0m\u001b[1;33m,\u001b[0m \u001b[0mindex_col\u001b[0m\u001b[1;33m=\u001b[0m\u001b[1;33m[\u001b[0m\u001b[1;36m0\u001b[0m\u001b[1;33m]\u001b[0m\u001b[1;33m,\u001b[0m \u001b[0mheader\u001b[0m \u001b[1;33m=\u001b[0m \u001b[1;36m0\u001b[0m\u001b[1;33m)\u001b[0m\u001b[1;33m\u001b[0m\u001b[1;33m\u001b[0m\u001b[0m\n\u001b[0m",
      "\u001b[1;32m~\\anaconda3\\lib\\site-packages\\pandas\\io\\parsers.py\u001b[0m in \u001b[0;36mparser_f\u001b[1;34m(filepath_or_buffer, sep, delimiter, header, names, index_col, usecols, squeeze, prefix, mangle_dupe_cols, dtype, engine, converters, true_values, false_values, skipinitialspace, skiprows, skipfooter, nrows, na_values, keep_default_na, na_filter, verbose, skip_blank_lines, parse_dates, infer_datetime_format, keep_date_col, date_parser, dayfirst, cache_dates, iterator, chunksize, compression, thousands, decimal, lineterminator, quotechar, quoting, doublequote, escapechar, comment, encoding, dialect, error_bad_lines, warn_bad_lines, delim_whitespace, low_memory, memory_map, float_precision)\u001b[0m\n\u001b[0;32m    674\u001b[0m         )\n\u001b[0;32m    675\u001b[0m \u001b[1;33m\u001b[0m\u001b[0m\n\u001b[1;32m--> 676\u001b[1;33m         \u001b[1;32mreturn\u001b[0m \u001b[0m_read\u001b[0m\u001b[1;33m(\u001b[0m\u001b[0mfilepath_or_buffer\u001b[0m\u001b[1;33m,\u001b[0m \u001b[0mkwds\u001b[0m\u001b[1;33m)\u001b[0m\u001b[1;33m\u001b[0m\u001b[1;33m\u001b[0m\u001b[0m\n\u001b[0m\u001b[0;32m    677\u001b[0m \u001b[1;33m\u001b[0m\u001b[0m\n\u001b[0;32m    678\u001b[0m     \u001b[0mparser_f\u001b[0m\u001b[1;33m.\u001b[0m\u001b[0m__name__\u001b[0m \u001b[1;33m=\u001b[0m \u001b[0mname\u001b[0m\u001b[1;33m\u001b[0m\u001b[1;33m\u001b[0m\u001b[0m\n",
      "\u001b[1;32m~\\anaconda3\\lib\\site-packages\\pandas\\io\\parsers.py\u001b[0m in \u001b[0;36m_read\u001b[1;34m(filepath_or_buffer, kwds)\u001b[0m\n\u001b[0;32m    452\u001b[0m \u001b[1;33m\u001b[0m\u001b[0m\n\u001b[0;32m    453\u001b[0m     \u001b[1;32mtry\u001b[0m\u001b[1;33m:\u001b[0m\u001b[1;33m\u001b[0m\u001b[1;33m\u001b[0m\u001b[0m\n\u001b[1;32m--> 454\u001b[1;33m         \u001b[0mdata\u001b[0m \u001b[1;33m=\u001b[0m \u001b[0mparser\u001b[0m\u001b[1;33m.\u001b[0m\u001b[0mread\u001b[0m\u001b[1;33m(\u001b[0m\u001b[0mnrows\u001b[0m\u001b[1;33m)\u001b[0m\u001b[1;33m\u001b[0m\u001b[1;33m\u001b[0m\u001b[0m\n\u001b[0m\u001b[0;32m    455\u001b[0m     \u001b[1;32mfinally\u001b[0m\u001b[1;33m:\u001b[0m\u001b[1;33m\u001b[0m\u001b[1;33m\u001b[0m\u001b[0m\n\u001b[0;32m    456\u001b[0m         \u001b[0mparser\u001b[0m\u001b[1;33m.\u001b[0m\u001b[0mclose\u001b[0m\u001b[1;33m(\u001b[0m\u001b[1;33m)\u001b[0m\u001b[1;33m\u001b[0m\u001b[1;33m\u001b[0m\u001b[0m\n",
      "\u001b[1;32m~\\anaconda3\\lib\\site-packages\\pandas\\io\\parsers.py\u001b[0m in \u001b[0;36mread\u001b[1;34m(self, nrows)\u001b[0m\n\u001b[0;32m   1131\u001b[0m     \u001b[1;32mdef\u001b[0m \u001b[0mread\u001b[0m\u001b[1;33m(\u001b[0m\u001b[0mself\u001b[0m\u001b[1;33m,\u001b[0m \u001b[0mnrows\u001b[0m\u001b[1;33m=\u001b[0m\u001b[1;32mNone\u001b[0m\u001b[1;33m)\u001b[0m\u001b[1;33m:\u001b[0m\u001b[1;33m\u001b[0m\u001b[1;33m\u001b[0m\u001b[0m\n\u001b[0;32m   1132\u001b[0m         \u001b[0mnrows\u001b[0m \u001b[1;33m=\u001b[0m \u001b[0m_validate_integer\u001b[0m\u001b[1;33m(\u001b[0m\u001b[1;34m\"nrows\"\u001b[0m\u001b[1;33m,\u001b[0m \u001b[0mnrows\u001b[0m\u001b[1;33m)\u001b[0m\u001b[1;33m\u001b[0m\u001b[1;33m\u001b[0m\u001b[0m\n\u001b[1;32m-> 1133\u001b[1;33m         \u001b[0mret\u001b[0m \u001b[1;33m=\u001b[0m \u001b[0mself\u001b[0m\u001b[1;33m.\u001b[0m\u001b[0m_engine\u001b[0m\u001b[1;33m.\u001b[0m\u001b[0mread\u001b[0m\u001b[1;33m(\u001b[0m\u001b[0mnrows\u001b[0m\u001b[1;33m)\u001b[0m\u001b[1;33m\u001b[0m\u001b[1;33m\u001b[0m\u001b[0m\n\u001b[0m\u001b[0;32m   1134\u001b[0m \u001b[1;33m\u001b[0m\u001b[0m\n\u001b[0;32m   1135\u001b[0m         \u001b[1;31m# May alter columns / col_dict\u001b[0m\u001b[1;33m\u001b[0m\u001b[1;33m\u001b[0m\u001b[1;33m\u001b[0m\u001b[0m\n",
      "\u001b[1;32m~\\anaconda3\\lib\\site-packages\\pandas\\io\\parsers.py\u001b[0m in \u001b[0;36mread\u001b[1;34m(self, nrows)\u001b[0m\n\u001b[0;32m   2035\u001b[0m     \u001b[1;32mdef\u001b[0m \u001b[0mread\u001b[0m\u001b[1;33m(\u001b[0m\u001b[0mself\u001b[0m\u001b[1;33m,\u001b[0m \u001b[0mnrows\u001b[0m\u001b[1;33m=\u001b[0m\u001b[1;32mNone\u001b[0m\u001b[1;33m)\u001b[0m\u001b[1;33m:\u001b[0m\u001b[1;33m\u001b[0m\u001b[1;33m\u001b[0m\u001b[0m\n\u001b[0;32m   2036\u001b[0m         \u001b[1;32mtry\u001b[0m\u001b[1;33m:\u001b[0m\u001b[1;33m\u001b[0m\u001b[1;33m\u001b[0m\u001b[0m\n\u001b[1;32m-> 2037\u001b[1;33m             \u001b[0mdata\u001b[0m \u001b[1;33m=\u001b[0m \u001b[0mself\u001b[0m\u001b[1;33m.\u001b[0m\u001b[0m_reader\u001b[0m\u001b[1;33m.\u001b[0m\u001b[0mread\u001b[0m\u001b[1;33m(\u001b[0m\u001b[0mnrows\u001b[0m\u001b[1;33m)\u001b[0m\u001b[1;33m\u001b[0m\u001b[1;33m\u001b[0m\u001b[0m\n\u001b[0m\u001b[0;32m   2038\u001b[0m         \u001b[1;32mexcept\u001b[0m \u001b[0mStopIteration\u001b[0m\u001b[1;33m:\u001b[0m\u001b[1;33m\u001b[0m\u001b[1;33m\u001b[0m\u001b[0m\n\u001b[0;32m   2039\u001b[0m             \u001b[1;32mif\u001b[0m \u001b[0mself\u001b[0m\u001b[1;33m.\u001b[0m\u001b[0m_first_chunk\u001b[0m\u001b[1;33m:\u001b[0m\u001b[1;33m\u001b[0m\u001b[1;33m\u001b[0m\u001b[0m\n",
      "\u001b[1;32mpandas\\_libs\\parsers.pyx\u001b[0m in \u001b[0;36mpandas._libs.parsers.TextReader.read\u001b[1;34m()\u001b[0m\n",
      "\u001b[1;32mpandas\\_libs\\parsers.pyx\u001b[0m in \u001b[0;36mpandas._libs.parsers.TextReader._read_low_memory\u001b[1;34m()\u001b[0m\n",
      "\u001b[1;32mpandas\\_libs\\parsers.pyx\u001b[0m in \u001b[0;36mpandas._libs.parsers.TextReader._read_rows\u001b[1;34m()\u001b[0m\n",
      "\u001b[1;32mpandas\\_libs\\parsers.pyx\u001b[0m in \u001b[0;36mpandas._libs.parsers.TextReader._convert_column_data\u001b[1;34m()\u001b[0m\n",
      "\u001b[1;32mpandas\\_libs\\parsers.pyx\u001b[0m in \u001b[0;36mpandas._libs.parsers.TextReader._convert_tokens\u001b[1;34m()\u001b[0m\n",
      "\u001b[1;32mpandas\\_libs\\parsers.pyx\u001b[0m in \u001b[0;36mpandas._libs.parsers.TextReader._convert_with_dtype\u001b[1;34m()\u001b[0m\n",
      "\u001b[1;32mpandas\\_libs\\parsers.pyx\u001b[0m in \u001b[0;36mpandas._libs.parsers.TextReader._string_convert\u001b[1;34m()\u001b[0m\n",
      "\u001b[1;32mpandas\\_libs\\parsers.pyx\u001b[0m in \u001b[0;36mpandas._libs.parsers._string_box_utf8\u001b[1;34m()\u001b[0m\n",
      "\u001b[1;31mMemoryError\u001b[0m: "
     ]
    }
   ],
   "source": [
    "pd.read_csv('labeled_corpus.csv', index_col=[0], header = 0)"
   ]
  },
  {
   "cell_type": "code",
   "execution_count": null,
   "metadata": {},
   "outputs": [],
   "source": [
    "corpus"
   ]
  },
  {
   "cell_type": "code",
   "execution_count": 5,
   "metadata": {},
   "outputs": [],
   "source": [
    "import nltk"
   ]
  },
  {
   "cell_type": "code",
   "execution_count": 4,
   "metadata": {},
   "outputs": [],
   "source": [
    "from tqdm import tqdm"
   ]
  },
  {
   "cell_type": "code",
   "execution_count": 12,
   "metadata": {},
   "outputs": [
    {
     "name": "stderr",
     "output_type": "stream",
     "text": [
      "\n",
      "0it [00:00, ?it/s]\u001b[A\n",
      "4459it [00:00, 44111.10it/s]\u001b[A\n",
      "9204it [00:00, 45016.09it/s]\u001b[A\n",
      "12809it [00:00, 41659.55it/s]\u001b[A\n",
      "16238it [00:00, 37389.51it/s]\u001b[A\n",
      "19262it [00:00, 34847.31it/s]\u001b[A\n",
      "22184it [00:00, 32896.57it/s]\u001b[A\n",
      "25061it [00:00, 31446.83it/s]\u001b[A\n",
      "28015it [00:00, 30724.70it/s]\u001b[A\n",
      "30898it [00:00, 30088.26it/s]\u001b[A\n",
      "33778it [00:01, 27148.13it/s]\u001b[A\n",
      "36457it [00:01, 25059.25it/s]\u001b[A\n",
      "38970it [00:01, 23366.55it/s]\u001b[A\n",
      "42203it [00:01, 23758.65it/s]\u001b[A\n",
      "44894it [00:01, 24618.10it/s]\u001b[A\n",
      "47379it [00:01, 22521.49it/s]\u001b[A\n",
      "50430it [00:01, 21774.33it/s]\u001b[A\n",
      "53379it [00:01, 23515.98it/s]\u001b[A\n",
      "55800it [00:02, 21729.14it/s]\u001b[A\n",
      "58560it [00:02, 23203.86it/s]\u001b[A\n",
      "61109it [00:02, 21765.39it/s]\u001b[A\n",
      "63645it [00:02, 22687.84it/s]\u001b[A\n",
      "66604it [00:02, 24379.90it/s]\u001b[A\n",
      "69122it [00:02, 20772.68it/s]\u001b[A\n",
      "72285it [00:02, 23121.81it/s]\u001b[A\n",
      "74785it [00:02, 19893.31it/s]\u001b[A\n",
      "77622it [00:03, 21820.60it/s]\u001b[A\n",
      "81032it [00:03, 24295.71it/s]\u001b[A\n",
      "83694it [00:03, 20498.01it/s]\u001b[A\n",
      "86653it [00:03, 22559.78it/s]\u001b[A\n",
      "90098it [00:03, 24842.04it/s]\u001b[A\n",
      "92827it [00:03, 20271.35it/s]\u001b[A\n",
      "96058it [00:03, 22529.68it/s]\u001b[A\n",
      "99465it [00:03, 24954.69it/s]\u001b[A\n",
      "102361it [00:04, 20201.02it/s]\u001b[A\n",
      "105356it [00:04, 21985.45it/s]\u001b[A\n",
      "108580it [00:04, 24231.92it/s]\u001b[A\n",
      "111342it [00:04, 25131.75it/s]\u001b[A\n",
      "114055it [00:04, 18398.25it/s]\u001b[A\n",
      "117227it [00:04, 21022.71it/s]\u001b[A\n",
      "123364it [00:04, 25904.40it/s]\u001b[A\n",
      "126819it [00:04, 27091.19it/s]\u001b[A\n",
      "130148it [00:05, 19831.85it/s]\u001b[A\n",
      "133420it [00:05, 22012.71it/s]\u001b[A\n",
      "136812it [00:05, 24492.01it/s]\u001b[A\n",
      "139963it [00:05, 26226.79it/s]\u001b[A\n",
      "142964it [00:05, 27183.16it/s]\u001b[A\n",
      "145956it [00:05, 18411.55it/s]\u001b[A\n",
      "149029it [00:06, 20320.25it/s]\u001b[A\n",
      "151933it [00:06, 21556.68it/s]\u001b[A\n",
      "154696it [00:06, 23069.99it/s]\u001b[A\n",
      "157484it [00:06, 24272.71it/s]\u001b[A\n",
      "160116it [00:06, 15935.86it/s]\u001b[A\n",
      "163119it [00:06, 18544.07it/s]\u001b[A\n",
      "166486it [00:06, 20812.94it/s]\u001b[A\n",
      "169270it [00:06, 22503.87it/s]\u001b[A\n",
      "172364it [00:07, 24361.42it/s]\u001b[A\n",
      "175096it [00:07, 15743.20it/s]\u001b[A\n",
      "179376it [00:07, 19073.98it/s]\u001b[A\n",
      "183231it [00:07, 22447.75it/s]\u001b[A\n",
      "186819it [00:07, 25273.94it/s]\u001b[A\n",
      "189994it [00:07, 26708.04it/s]\u001b[A\n",
      "193140it [00:07, 27097.62it/s]\u001b[A\n",
      "196184it [00:08, 16470.38it/s]\u001b[A\n",
      "201020it [00:08, 20146.70it/s]\u001b[A\n",
      "204226it [00:08, 22659.36it/s]\u001b[A\n",
      "207789it [00:08, 24704.81it/s]\u001b[A\n",
      "210837it [00:08, 26050.09it/s]\u001b[A\n",
      "213866it [00:08, 27041.14it/s]\u001b[A\n",
      "217040it [00:08, 27393.36it/s]\u001b[A\n",
      "219995it [00:09, 15315.56it/s]\u001b[A\n",
      "223229it [00:09, 17932.14it/s]\u001b[A\n",
      "226128it [00:09, 20239.57it/s]\u001b[A\n",
      "229268it [00:09, 22625.24it/s]\u001b[A\n",
      "232038it [00:09, 23731.32it/s]\u001b[A\n",
      "235327it [00:09, 24988.34it/s]\u001b[A\n",
      "238550it [00:09, 25823.71it/s]\u001b[A\n",
      "241840it [00:10, 15131.13it/s]\u001b[A\n",
      "244318it [00:10, 16921.34it/s]\u001b[A\n",
      "247416it [00:10, 19056.20it/s]\u001b[A\n",
      "250107it [00:10, 20853.29it/s]\u001b[A\n",
      "253160it [00:10, 23025.88it/s]\u001b[A"
     ]
    },
    {
     "name": "stdout",
     "output_type": "stream",
     "text": [
      "253188\n",
      "253233\n",
      "253466\n",
      "253529\n",
      "253552\n",
      "253556\n",
      "253560\n",
      "253585\n",
      "253920\n",
      "254113\n",
      "255619\n"
     ]
    },
    {
     "name": "stderr",
     "output_type": "stream",
     "text": [
      "\n",
      "256270it [00:11, 23112.56it/s]\u001b[A"
     ]
    },
    {
     "name": "stdout",
     "output_type": "stream",
     "text": [
      "256269\n"
     ]
    },
    {
     "name": "stderr",
     "output_type": "stream",
     "text": [
      "\n"
     ]
    }
   ],
   "source": [
    "total_token = []\n",
    "for i, v in tqdm(enumerate(corpus['token_ngram'])):\n",
    "    try:\n",
    "        total_token.extend(v.split(\",\"))\n",
    "    except:\n",
    "        print(i)\n",
    "    "
   ]
  },
  {
   "cell_type": "code",
   "execution_count": 13,
   "metadata": {},
   "outputs": [],
   "source": [
    "import nltk"
   ]
  },
  {
   "cell_type": "code",
   "execution_count": null,
   "metadata": {},
   "outputs": [],
   "source": [
    "count_token = nltk.FreqDist(total_token)"
   ]
  },
  {
   "cell_type": "code",
   "execution_count": null,
   "metadata": {},
   "outputs": [],
   "source": []
  }
 ],
 "metadata": {
  "kernelspec": {
   "display_name": "Python 3",
   "language": "python",
   "name": "python3"
  },
  "language_info": {
   "codemirror_mode": {
    "name": "ipython",
    "version": 3
   },
   "file_extension": ".py",
   "mimetype": "text/x-python",
   "name": "python",
   "nbconvert_exporter": "python",
   "pygments_lexer": "ipython3",
   "version": "3.7.6"
  }
 },
 "nbformat": 4,
 "nbformat_minor": 4
}